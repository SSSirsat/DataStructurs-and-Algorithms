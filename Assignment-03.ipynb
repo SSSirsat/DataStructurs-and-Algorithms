{
 "cells": [
  {
   "cell_type": "raw",
   "id": "2b80ab38",
   "metadata": {},
   "source": [
    "Q.1 } Write a function contracting(l) that takes as input a list of integer \n",
    "l and returns True if the absolute difference between each adjacent pair of \n",
    "elements strictly decreases."
   ]
  },
  {
   "cell_type": "code",
   "execution_count": 41,
   "id": "b3267d13",
   "metadata": {},
   "outputs": [],
   "source": [
    "def contracting(l):\n",
    "    diff = []\n",
    "    for i,j in zip(l[:],l[1:]):\n",
    "        abs_diff = abs(i-j)\n",
    "        diff.append(abs_diff)\n",
    "    for x,y in zip(diff[:],diff[1:]):\n",
    "        if x > y:\n",
    "            x=y\n",
    "        else:\n",
    "            return False\n",
    "    return True\n",
    "            "
   ]
  },
  {
   "cell_type": "code",
   "execution_count": 42,
   "id": "e0d24493",
   "metadata": {},
   "outputs": [],
   "source": [
    "l = [9,2,7,3,1]"
   ]
  },
  {
   "cell_type": "code",
   "execution_count": 43,
   "id": "185eda32",
   "metadata": {},
   "outputs": [
    {
     "data": {
      "text/plain": [
       "True"
      ]
     },
     "execution_count": 43,
     "metadata": {},
     "output_type": "execute_result"
    }
   ],
   "source": [
    "contracting(l)"
   ]
  },
  {
   "cell_type": "code",
   "execution_count": 44,
   "id": "0ca23e35",
   "metadata": {},
   "outputs": [
    {
     "data": {
      "text/plain": [
       "False"
      ]
     },
     "execution_count": 44,
     "metadata": {},
     "output_type": "execute_result"
    }
   ],
   "source": [
    "contracting([-2,3,7,2,-1])"
   ]
  },
  {
   "cell_type": "raw",
   "id": "91cab4e0",
   "metadata": {},
   "source": [
    "Q.2 }In a list of integers l, the neighbours of l[i] are l[i-1] and l[i+1]. l[i] is a hill if it is strictly greater than its neighbours and a valley if it is strictly less than its neighbours.\n",
    "Write a function counthv(l) that takes as input a list of integers l and returns a list [hc,vc] where hc is the number of hills in l and vc is the number of valleys in l."
   ]
  },
  {
   "cell_type": "code",
   "execution_count": 67,
   "id": "de9621bc",
   "metadata": {},
   "outputs": [],
   "source": [
    "def counthv(l):\n",
    "    hc = 0\n",
    "    vc = 0\n",
    "    for i in range(1,len(l)-1):\n",
    "        if l[i]>l[i-1] and l[i]>l[i+1]:\n",
    "            hc += 1\n",
    "        elif l[i]<l[i-1] and l[i]<l[i+1]:\n",
    "            vc += 1\n",
    "    return [hc,vc]"
   ]
  },
  {
   "cell_type": "code",
   "execution_count": 68,
   "id": "135d6836",
   "metadata": {},
   "outputs": [
    {
     "data": {
      "text/plain": [
       "[2, 1]"
      ]
     },
     "execution_count": 68,
     "metadata": {},
     "output_type": "execute_result"
    }
   ],
   "source": [
    "counthv([1,2,1,2,3,2,1])"
   ]
  },
  {
   "cell_type": "code",
   "execution_count": 69,
   "id": "35d53b34",
   "metadata": {},
   "outputs": [
    {
     "data": {
      "text/plain": [
       "[1, 0]"
      ]
     },
     "execution_count": 69,
     "metadata": {},
     "output_type": "execute_result"
    }
   ],
   "source": [
    "counthv([1,2,3,1])"
   ]
  },
  {
   "cell_type": "code",
   "execution_count": 70,
   "id": "a3ea8a8f",
   "metadata": {},
   "outputs": [
    {
     "data": {
      "text/plain": [
       "[0, 1]"
      ]
     },
     "execution_count": 70,
     "metadata": {},
     "output_type": "execute_result"
    }
   ],
   "source": [
    "counthv([3,1,2,3])"
   ]
  },
  {
   "cell_type": "raw",
   "id": "6e5bad1d",
   "metadata": {},
   "source": [
    "Q. 3 } A square n×n matrix of integers can be written in Python as a list with n elements, where each element is in turn a list of n integers, representing a row of the matrix. For instance, the matrix\n",
    "\n",
    "  1  2  3\n",
    "  4  5  6\n",
    "  7  8  9\n",
    "would be represented as [[1,2,3], [4,5,6], [7,8,9]].\n",
    "\n",
    "Write a function leftrotate(m) that takes a list representation m of a square matrix as input, and returns the matrix obtained by rotating the original matrix counterclockwize by 90 degrees. For instance, if we rotate the matrix above, we get\n",
    "\n",
    "  3  6  9\n",
    "  2  5  8    \n",
    "  1  4  7\n",
    "Your function should not modify the argument m provided to the function rotate().\n",
    "\n",
    "Here are some examples of how your function should work."
   ]
  },
  {
   "cell_type": "code",
   "execution_count": 99,
   "id": "8f886780",
   "metadata": {},
   "outputs": [],
   "source": [
    "def leftrotate(m):\n",
    "    b=[]\n",
    "    for i in range(len(m)):\n",
    "        c=[]\n",
    "        for j in range(len(m[0])):\n",
    "            c.append(m[j][i])\n",
    "        b.append(c)\n",
    "    for i in range(len(b)-1,-1,-1):\n",
    "        for j in range(len(b[0])):\n",
    "            print(b[i][j],end=\" \")\n",
    "        print()"
   ]
  },
  {
   "cell_type": "code",
   "execution_count": 100,
   "id": "b6580aae",
   "metadata": {},
   "outputs": [
    {
     "data": {
      "text/plain": [
       "[4, 5, 6]"
      ]
     },
     "execution_count": 100,
     "metadata": {},
     "output_type": "execute_result"
    }
   ],
   "source": [
    "m=[[1,2,3], [4,5,6], [7,8,9]]\n",
    "m[1]"
   ]
  },
  {
   "cell_type": "code",
   "execution_count": null,
   "id": "4dcf448d",
   "metadata": {},
   "outputs": [],
   "source": []
  },
  {
   "cell_type": "code",
   "execution_count": 101,
   "id": "99fa6fc1",
   "metadata": {
    "scrolled": true
   },
   "outputs": [
    {
     "name": "stdout",
     "output_type": "stream",
     "text": [
      "3 6 9 \n",
      "2 5 8 \n",
      "1 4 7 \n"
     ]
    }
   ],
   "source": [
    "leftrotate(m)"
   ]
  },
  {
   "cell_type": "code",
   "execution_count": 116,
   "id": "33a19e08",
   "metadata": {},
   "outputs": [],
   "source": [
    "def leftrotate(m):  \n",
    "    N = len(m[0])\n",
    "    for x in range(0, int(N / 2)): \n",
    "        for y in range(x, N-x-1):\n",
    "            print(m[x][y])\n",
    "            temp = m[x][y]  \n",
    "            m[x][y] = m[y][N-1-x]  \n",
    "            m[y][N-1-x] = m[N-1-x][N-1-y]  \n",
    "            m[N-1-x][N-1-y] = m[N-1-y][x]  \n",
    "            m[N-1-y][x] = temp  \n",
    "    return(m)"
   ]
  },
  {
   "cell_type": "code",
   "execution_count": 117,
   "id": "c425a1b2",
   "metadata": {
    "scrolled": true
   },
   "outputs": [
    {
     "name": "stdout",
     "output_type": "stream",
     "text": [
      "1\n"
     ]
    },
    {
     "data": {
      "text/plain": [
       "[[2, 4], [1, 3]]"
      ]
     },
     "execution_count": 117,
     "metadata": {},
     "output_type": "execute_result"
    }
   ],
   "source": [
    "leftrotate([[1,2],[3,4]])"
   ]
  },
  {
   "cell_type": "code",
   "execution_count": 113,
   "id": "a96d69af",
   "metadata": {},
   "outputs": [
    {
     "data": {
      "text/plain": [
       "[[3, 6, 9], [2, 5, 8], [1, 4, 7]]"
      ]
     },
     "execution_count": 113,
     "metadata": {},
     "output_type": "execute_result"
    }
   ],
   "source": [
    "leftrotate([[1,2,3], [4,5,6], [7,8,9]])"
   ]
  },
  {
   "cell_type": "code",
   "execution_count": null,
   "id": "adee8aaf",
   "metadata": {},
   "outputs": [],
   "source": []
  }
 ],
 "metadata": {
  "kernelspec": {
   "display_name": "Python 3 (ipykernel)",
   "language": "python",
   "name": "python3"
  },
  "language_info": {
   "codemirror_mode": {
    "name": "ipython",
    "version": 3
   },
   "file_extension": ".py",
   "mimetype": "text/x-python",
   "name": "python",
   "nbconvert_exporter": "python",
   "pygments_lexer": "ipython3",
   "version": "3.9.12"
  }
 },
 "nbformat": 4,
 "nbformat_minor": 5
}
