{
 "cells": [
  {
   "cell_type": "code",
   "execution_count": null,
   "id": "07206377",
   "metadata": {},
   "outputs": [],
   "source": [
    "\n"
   ]
  },
  {
   "cell_type": "code",
   "execution_count": 12,
   "id": "a88f7fa2",
   "metadata": {},
   "outputs": [],
   "source": [
    "def SelectionSort(l):\n",
    "    #scan slice l[0:len(l), l[1:len(l)]]\n",
    "    for start in range(len(l)):\n",
    "        #find minimum value in slice\n",
    "        minpos = start\n",
    "        for i in range(start,len(l)):\n",
    "            if l[i] < l[minpos]:\n",
    "                minpos=i\n",
    "    #. . .and move it to start of slice\n",
    "        (l[start],l[minpos])=(l[minpos],l[start])\n",
    "    print(l)\n",
    "        "
   ]
  },
  {
   "cell_type": "code",
   "execution_count": 13,
   "id": "20aa7bce",
   "metadata": {},
   "outputs": [
    {
     "data": {
      "text/plain": [
       "[20, 19, 18, 17, 16, 15, 14, 13, 12, 11, 10, 9, 8, 7, 6]"
      ]
     },
     "execution_count": 13,
     "metadata": {},
     "output_type": "execute_result"
    }
   ],
   "source": [
    "l = [i for i in range(20,5,-1)]\n",
    "l"
   ]
  },
  {
   "cell_type": "code",
   "execution_count": 14,
   "id": "03f453e9",
   "metadata": {},
   "outputs": [
    {
     "name": "stdout",
     "output_type": "stream",
     "text": [
      "[6, 7, 8, 9, 10, 11, 12, 13, 14, 15, 16, 17, 18, 19, 20]\n"
     ]
    }
   ],
   "source": [
    "SelectionSort(l)"
   ]
  },
  {
   "cell_type": "code",
   "execution_count": 15,
   "id": "3924a892",
   "metadata": {},
   "outputs": [
    {
     "name": "stdout",
     "output_type": "stream",
     "text": [
      "[6, 7, 8, 9, 10, 11, 12, 13, 14, 15, 16, 17, 18, 19, 20]\n",
      "CPU times: total: 0 ns\n",
      "Wall time: 999 µs\n"
     ]
    }
   ],
   "source": [
    "time SelectionSort(l)"
   ]
  },
  {
   "cell_type": "code",
   "execution_count": null,
   "id": "dd2b36db",
   "metadata": {},
   "outputs": [],
   "source": []
  },
  {
   "cell_type": "code",
   "execution_count": null,
   "id": "5cedd6fe",
   "metadata": {},
   "outputs": [],
   "source": [
    "#Recursive"
   ]
  },
  {
   "cell_type": "code",
   "execution_count": 16,
   "id": "a5dc06af",
   "metadata": {},
   "outputs": [],
   "source": [
    "def factorials(n):\n",
    "    if n ==0 :\n",
    "        return (1)\n",
    "    else:\n",
    "        return (n*factorials(n-1))\n",
    "    "
   ]
  },
  {
   "cell_type": "code",
   "execution_count": 18,
   "id": "7cc91d89",
   "metadata": {},
   "outputs": [
    {
     "data": {
      "text/plain": [
       "6"
      ]
     },
     "execution_count": 18,
     "metadata": {},
     "output_type": "execute_result"
    }
   ],
   "source": [
    "factorials(3)"
   ]
  },
  {
   "cell_type": "code",
   "execution_count": null,
   "id": "eabfc66f",
   "metadata": {},
   "outputs": [],
   "source": []
  }
 ],
 "metadata": {
  "kernelspec": {
   "display_name": "Python 3 (ipykernel)",
   "language": "python",
   "name": "python3"
  },
  "language_info": {
   "codemirror_mode": {
    "name": "ipython",
    "version": 3
   },
   "file_extension": ".py",
   "mimetype": "text/x-python",
   "name": "python",
   "nbconvert_exporter": "python",
   "pygments_lexer": "ipython3",
   "version": "3.9.12"
  }
 },
 "nbformat": 4,
 "nbformat_minor": 5
}
