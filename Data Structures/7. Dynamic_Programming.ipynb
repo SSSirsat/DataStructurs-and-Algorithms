{
 "cells": [
  {
   "cell_type": "markdown",
   "id": "ab4dd65f",
   "metadata": {},
   "source": [
    "# Counting Bits"
   ]
  },
  {
   "cell_type": "markdown",
   "id": "6cfb5cfa",
   "metadata": {},
   "source": [
    "Given an integer n, return an array ans of length n + 1 such that for each i (0 <= i <= n), ans[i] is the number of 1's in the binary representation of i.\n",
    "\n",
    " \n",
    "\n",
    "Example 1:\n",
    "\n",
    "Input: n = 2\n",
    "Output: [0,1,1]\n",
    "Explanation:\n",
    "0 --> 0\n",
    "1 --> 1\n",
    "2 --> 10\n",
    "Example 2:\n",
    "\n",
    "Input: n = 5\n",
    "Output: [0,1,1,2,1,2]\n",
    "Explanation:\n",
    "0 --> 0\n",
    "1 --> 1\n",
    "2 --> 10\n",
    "3 --> 11\n",
    "4 --> 100\n",
    "5 --> 101\n",
    " \n",
    "\n",
    "Constraints:\n",
    "\n",
    "0 <= n <= 105\n",
    " \n",
    "\n",
    "Follow up:\n",
    "\n",
    "It is very easy to come up with a solution with a runtime of O(n log n). Can you do it in linear time O(n) and possibly in a single pass?\n",
    "Can you do it without using any built-in function (i.e., like __builtin_popcount in C++)?"
   ]
  },
  {
   "cell_type": "code",
   "execution_count": 43,
   "id": "5790f046",
   "metadata": {},
   "outputs": [],
   "source": [
    "import time"
   ]
  },
  {
   "cell_type": "code",
   "execution_count": 45,
   "id": "5e8ca826",
   "metadata": {},
   "outputs": [
    {
     "name": "stdout",
     "output_type": "stream",
     "text": [
      "[0, 1, 1, 2, 1, 2, 2, 3, 1, 2]\n",
      "Time required : 0.0009999275207519531\n"
     ]
    }
   ],
   "source": [
    "sta=time.time()\n",
    "def countBits(n):\n",
    "    dp= [0] *(n+1)\n",
    "    offset = 1\n",
    "    for i in range(1,n+1):\n",
    "        if offset*2 ==i:\n",
    "            offset=i\n",
    "        dp[i] = 1+ dp[i-offset]\n",
    "    return dp\n",
    "\n",
    "print(countBits(9))        \n",
    "end = time.time()\n",
    "print(\"Time required :\", end - sta)"
   ]
  },
  {
   "cell_type": "code",
   "execution_count": 47,
   "id": "037fc65f",
   "metadata": {},
   "outputs": [
    {
     "name": "stdout",
     "output_type": "stream",
     "text": [
      "[0, 1, 1, 2, 1, 2, 2, 3, 1, 2]\n",
      "Time required : 0.0009419918060302734\n"
     ]
    }
   ],
   "source": [
    "\n",
    "sta=time.time()\n",
    "#my method to find the \n",
    "count=[]\n",
    "for i in range(9+1):\n",
    "    a = bin(i).count('1')\n",
    "    count.append(a)\n",
    "    \n",
    "print(count)\n",
    "end = time.time()\n",
    "print(\"Time required :\", end - sta)"
   ]
  },
  {
   "cell_type": "markdown",
   "id": "e030aedb",
   "metadata": {},
   "source": [
    "## Unique Paths"
   ]
  },
  {
   "cell_type": "raw",
   "id": "538d19e9",
   "metadata": {},
   "source": [
    "There is a robot on an m x n grid. The robot is initially located at the top-left corner (i.e., grid[0][0]). The robot tries to move to the bottom-right corner (i.e., grid[m - 1][n - 1]). The robot can only move either down or right at any point in time.\n",
    "\n",
    "Given the two integers m and n, return the number of possible unique paths that the robot can take to reach the bottom-right corner.\n",
    "\n",
    "The test cases are generated so that the answer will be less than or equal to 2 * 109.\n",
    "\n",
    " \n",
    "\n",
    "Example 1:\n",
    "\n",
    "\n",
    "Input: m = 3, n = 7\n",
    "Output: 28\n",
    "Example 2:\n",
    "\n",
    "Input: m = 3, n = 2\n",
    "Output: 3\n",
    "Explanation: From the top-left corner, there are a total of 3 ways to reach the bottom-right corner:\n",
    "1. Right -> Down -> Down\n",
    "2. Down -> Down -> Right\n",
    "3. Down -> Right -> Down\n",
    " \n",
    "\n",
    "Constraints:\n",
    "\n",
    "1 <= m, n <= 100"
   ]
  },
  {
   "cell_type": "code",
   "execution_count": 2,
   "id": "a81b9ae1",
   "metadata": {},
   "outputs": [],
   "source": [
    "def uniquepath(m,n):\n",
    "    row =[1]*n\n",
    "    for i in range(m-1):\n",
    "        newrow =[1] * n\n",
    "        for j in range(n-2, -1,-1):\n",
    "            newrow[j] = newrow[j+1]+row[j]\n",
    "        row = newrow\n",
    "    return row[0]"
   ]
  },
  {
   "cell_type": "code",
   "execution_count": 3,
   "id": "1bd1bede",
   "metadata": {},
   "outputs": [],
   "source": [
    "class Solution:\n",
    "    def uniquePaths(self, m: int, n: int) -> int:\n",
    "        row =[1]*n\n",
    "        for i in range(m-1):\n",
    "            newrow =[1] * n\n",
    "            for j in range(n-2, -1,-1):\n",
    "                newrow[j] = newrow[j+1]+row[j]\n",
    "            row = newrow\n",
    "        return row[0]\n",
    "        "
   ]
  },
  {
   "cell_type": "markdown",
   "id": "d8d08608",
   "metadata": {},
   "source": [
    "## Number of Steps to Reduce a Number to Zero"
   ]
  },
  {
   "cell_type": "raw",
   "id": "92ae1f8e",
   "metadata": {},
   "source": [
    "Given an integer num, return the number of steps to reduce it to zero.\n",
    "\n",
    "In one step, if the current number is even, you have to divide it by 2, otherwise, you have to subtract 1 from it.\n",
    "\n",
    " \n",
    "\n",
    "Example 1:\n",
    "\n",
    "Input: num = 14\n",
    "Output: 6\n",
    "Explanation: \n",
    "Step 1) 14 is even; divide by 2 and obtain 7. \n",
    "Step 2) 7 is odd; subtract 1 and obtain 6.\n",
    "Step 3) 6 is even; divide by 2 and obtain 3. \n",
    "Step 4) 3 is odd; subtract 1 and obtain 2. \n",
    "Step 5) 2 is even; divide by 2 and obtain 1. \n",
    "Step 6) 1 is odd; subtract 1 and obtain 0.\n",
    "Example 2:\n",
    "\n",
    "Input: num = 8\n",
    "Output: 4\n",
    "Explanation: \n",
    "Step 1) 8 is even; divide by 2 and obtain 4. \n",
    "Step 2) 4 is even; divide by 2 and obtain 2. \n",
    "Step 3) 2 is even; divide by 2 and obtain 1. \n",
    "Step 4) 1 is odd; subtract 1 and obtain 0.\n",
    "Example 3:\n",
    "\n",
    "Input: num = 123\n",
    "Output: 12\n",
    " \n",
    "\n",
    "Constraints:\n",
    "\n",
    "0 <= num <= 106"
   ]
  },
  {
   "cell_type": "code",
   "execution_count": 6,
   "id": "9a24214f",
   "metadata": {},
   "outputs": [
    {
     "name": "stdout",
     "output_type": "stream",
     "text": [
      "6\n"
     ]
    }
   ],
   "source": [
    "num=14\n",
    "steps=0\n",
    "while num!=0:\n",
    "    if num%2==0:\n",
    "        num=num/2\n",
    "        steps+=1\n",
    "    else:\n",
    "        num = num -1\n",
    "        steps+=1\n",
    "print(steps)"
   ]
  },
  {
   "cell_type": "code",
   "execution_count": null,
   "id": "aeb81af8",
   "metadata": {},
   "outputs": [],
   "source": []
  }
 ],
 "metadata": {
  "kernelspec": {
   "display_name": "Python 3 (ipykernel)",
   "language": "python",
   "name": "python3"
  },
  "language_info": {
   "codemirror_mode": {
    "name": "ipython",
    "version": 3
   },
   "file_extension": ".py",
   "mimetype": "text/x-python",
   "name": "python",
   "nbconvert_exporter": "python",
   "pygments_lexer": "ipython3",
   "version": "3.9.12"
  }
 },
 "nbformat": 4,
 "nbformat_minor": 5
}
