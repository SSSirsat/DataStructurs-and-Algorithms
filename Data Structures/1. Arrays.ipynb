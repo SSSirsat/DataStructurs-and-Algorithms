{
 "cells": [
  {
   "cell_type": "markdown",
   "id": "42e44f27",
   "metadata": {},
   "source": [
    "# Arrays"
   ]
  },
  {
   "cell_type": "markdown",
   "id": "a8967c20",
   "metadata": {},
   "source": [
    "An array is a type of data structure that stores elements of the same type in a contiguous block of memory. In an array, , of size , each memory location has some unique index,  (where ), that can be referenced as  or ."
   ]
  },
  {
   "cell_type": "markdown",
   "id": "e571c3ab",
   "metadata": {},
   "source": [
    "### Table of Content\n",
    "\n",
    " \n",
    "1) <a href='#01'>Reverse Array</a>\n",
    "\n",
    "2) <a href='#02'>2D Array</a>\n",
    "\n",
    "3) <a href='#03'>Dynamic Array</a>\n",
    "\n",
    "4) <a href='#04'>Two Sum Array</a>\n",
    "\n",
    "5) <a href='#05'>Remove Duplicates from Sorted Array</a>\n",
    "\n",
    "6) <a href='#06'>Remove Element</a>\n",
    "\n",
    "7) <a href='#07'>Search Insert Position</a>\n",
    "\n",
    "8) <a href='#08'>Plus One</a>\n",
    "\n",
    "9) <a href='#09'>Merge Sorted Array</a>\n",
    "\n",
    "10) <a href='#10'>Convert Sorted Array to Binary Search 10ee</a>\n",
    "\n",
    "11) <a href='#11'>Max Profit share sell and buy</a>\n",
    "\n",
    "12) <a href='#12'>Contains Duplicate</a> \n",
    "\n",
    "13) <a href='#13'>Single Numbe</a>\n",
    "\n",
    "14) <a href='#14'>Summary Ranges</a>\n",
    "\n",
    "15) <a href='#15'>Pascal's Triangle</a>\n",
    "\n",
    "16) <a href='#16'>Richest Customer Wealth</a>"
   ]
  },
  {
   "cell_type": "markdown",
   "id": "23b80e80",
   "metadata": {},
   "source": [
    "## <a id='01'>Reverse Array</a>"
   ]
  },
  {
   "cell_type": "raw",
   "id": "7d13c977",
   "metadata": {},
   "source": [
    "Example :\n",
    "A=[1,2,3]\n",
    "Return [3,2,1]\n",
    "\n",
    "Function Description\n",
    "Complete the function reverseArray in the editor below."
   ]
  },
  {
   "cell_type": "code",
   "execution_count": 1,
   "id": "4e11c0d8",
   "metadata": {},
   "outputs": [],
   "source": [
    "def reverseArray(a):\n",
    "    l = []\n",
    "    for i in a[::-1]:\n",
    "        l.append(i)\n",
    "    return l"
   ]
  },
  {
   "cell_type": "code",
   "execution_count": 2,
   "id": "3ea49586",
   "metadata": {},
   "outputs": [
    {
     "data": {
      "text/plain": [
       "[7, 8, 5, 2, 3]"
      ]
     },
     "execution_count": 2,
     "metadata": {},
     "output_type": "execute_result"
    }
   ],
   "source": [
    "A=[3,2,5,8,7]\n",
    "reverseArray(A)\n"
   ]
  },
  {
   "cell_type": "code",
   "execution_count": 3,
   "id": "7aa76e24",
   "metadata": {},
   "outputs": [
    {
     "name": "stdout",
     "output_type": "stream",
     "text": [
      "<class 'list'>\n"
     ]
    }
   ],
   "source": [
    "print(type(reverseArray(A)))"
   ]
  },
  {
   "cell_type": "markdown",
   "id": "1a638fae",
   "metadata": {},
   "source": [
    "## <a id='02'>2D Array</a>"
   ]
  },
  {
   "cell_type": "raw",
   "id": "cbd750c3",
   "metadata": {},
   "source": [
    "Function Description\n",
    "\n",
    "Complete the function hourglassSum in the editor below.\n",
    "\n",
    "hourglassSum has the following parameter(s):\n",
    "\n",
    "int arr[6][6]: an array of integers\n",
    "Returns\n",
    "\n",
    "int: the maximum hourglass sum\n",
    "\n",
    "0 4 3\n",
    "  1\n",
    "8 6 6"
   ]
  },
  {
   "cell_type": "code",
   "execution_count": 4,
   "id": "f3ebd21b",
   "metadata": {},
   "outputs": [],
   "source": [
    "import numpy as np"
   ]
  },
  {
   "cell_type": "code",
   "execution_count": 5,
   "id": "e000963f",
   "metadata": {},
   "outputs": [
    {
     "name": "stdout",
     "output_type": "stream",
     "text": [
      "[[ 1  2  5  6  6  0]\n",
      " [ 0  5  6  8  5  0]\n",
      " [ 2  0  2  0  5  0]\n",
      " [ 0  5  6  8  5  0]\n",
      " [ 8  5  9  2  5 -8]\n",
      " [-5 -9  0 -8  2  7]]\n",
      "Array size having this shape:::\n",
      "(6, 6)\n"
     ]
    }
   ],
   "source": [
    "Arr = np.array([[1,2,5,6,6,0],[0,5,6,8,5,0],[2,0,2,0,5,0],\n",
    "      [0,5,6,8,5,0],[8,5,9,2,5,-8],[-5,-9,0,-8,2,7]])\n",
    "\n",
    "print(Arr)\n",
    "print(\"Array size having this shape:::\")\n",
    "print(Arr.shape)\n"
   ]
  },
  {
   "cell_type": "code",
   "execution_count": 6,
   "id": "e493b066",
   "metadata": {},
   "outputs": [],
   "source": [
    "def hourglassSum(arr):\n",
    "    max = -float('inf')\n",
    "    for i in range(1,(len(arr)-1)):\n",
    "        for j in range(1,(len(arr)-1)):\n",
    "            sum=0\n",
    "            sum+= arr[i][j]\n",
    "            sum+= arr[i-1][j-1]+arr[i-1][j]+arr[i-1][j+1]\n",
    "            sum+= arr[i+1][j-1]+arr[i+1][j]+arr[i+1][j+1]\n",
    "            \n",
    "            if sum>max:\n",
    "                max=sum\n",
    "    return max\n"
   ]
  },
  {
   "cell_type": "code",
   "execution_count": 7,
   "id": "b57e5a19",
   "metadata": {},
   "outputs": [
    {
     "data": {
      "text/plain": [
       "40"
      ]
     },
     "execution_count": 7,
     "metadata": {},
     "output_type": "execute_result"
    }
   ],
   "source": [
    "hourglassSum(Arr)"
   ]
  },
  {
   "cell_type": "code",
   "execution_count": 8,
   "id": "600c75d0",
   "metadata": {},
   "outputs": [
    {
     "data": {
      "text/plain": [
       "array([[ 0,  1,  2,  3,  4,  5],\n",
       "       [ 6,  7,  8,  9, 10, 11],\n",
       "       [12, 13, 14, 15, 16, 17],\n",
       "       [18, 19, 20, 21, 22, 23],\n",
       "       [24, 25, 26, 27, 28, 29],\n",
       "       [30, 31, 32, 33, 34, 35]])"
      ]
     },
     "execution_count": 8,
     "metadata": {},
     "output_type": "execute_result"
    }
   ],
   "source": [
    "a = np.arange(36).reshape(6,6)\n",
    "a"
   ]
  },
  {
   "cell_type": "markdown",
   "id": "b4cded6f",
   "metadata": {},
   "source": [
    " <a id='the_destination'>Shubham</a>"
   ]
  },
  {
   "cell_type": "code",
   "execution_count": 9,
   "id": "538b5903",
   "metadata": {},
   "outputs": [
    {
     "data": {
      "text/plain": [
       "196"
      ]
     },
     "execution_count": 9,
     "metadata": {},
     "output_type": "execute_result"
    }
   ],
   "source": [
    "hourglassSum(a)"
   ]
  },
  {
   "cell_type": "code",
   "execution_count": 10,
   "id": "ee3190a4",
   "metadata": {},
   "outputs": [
    {
     "name": "stderr",
     "output_type": "stream",
     "text": [
      "C:\\Users\\ShubhamSurya_2m9wvm4\\AppData\\Local\\Temp\\ipykernel_6948\\2427472980.py:1: DeprecationWarning: This function is deprecated. Please call randint(-30, 30 + 1) instead\n",
      "  rg = np.random.random_integers(-30,30,36)\n"
     ]
    }
   ],
   "source": [
    "rg = np.random.random_integers(-30,30,36)"
   ]
  },
  {
   "cell_type": "code",
   "execution_count": 11,
   "id": "6b8c6476",
   "metadata": {},
   "outputs": [
    {
     "data": {
      "text/plain": [
       "array([-12, -16,   0, -14,   7,  -6,  18,  -6,  26, -15,  24,  28,  17,\n",
       "        17,  14,  24,  -5,  18,  -8, -28, -28,  27,  12, -30,   0,  28,\n",
       "        -2, -14,   2,  22, -18,  -8,  14,  28, -19,  17])"
      ]
     },
     "execution_count": 11,
     "metadata": {},
     "output_type": "execute_result"
    }
   ],
   "source": [
    "rg"
   ]
  },
  {
   "cell_type": "code",
   "execution_count": 12,
   "id": "9eeaba97",
   "metadata": {},
   "outputs": [
    {
     "data": {
      "text/plain": [
       "36"
      ]
     },
     "execution_count": 12,
     "metadata": {},
     "output_type": "execute_result"
    }
   ],
   "source": [
    "len(rg)"
   ]
  },
  {
   "cell_type": "code",
   "execution_count": 13,
   "id": "a9c5d6ee",
   "metadata": {},
   "outputs": [
    {
     "data": {
      "text/plain": [
       "array([[-12, -16,   0, -14,   7,  -6],\n",
       "       [ 18,  -6,  26, -15,  24,  28],\n",
       "       [ 17,  17,  14,  24,  -5,  18],\n",
       "       [ -8, -28, -28,  27,  12, -30],\n",
       "       [  0,  28,  -2, -14,   2,  22],\n",
       "       [-18,  -8,  14,  28, -19,  17]])"
      ]
     },
     "execution_count": 13,
     "metadata": {},
     "output_type": "execute_result"
    }
   ],
   "source": [
    "a = rg.reshape(6,6)\n",
    "a"
   ]
  },
  {
   "cell_type": "code",
   "execution_count": 14,
   "id": "5ba523a4",
   "metadata": {},
   "outputs": [
    {
     "data": {
      "text/plain": [
       "70"
      ]
     },
     "execution_count": 14,
     "metadata": {},
     "output_type": "execute_result"
    }
   ],
   "source": [
    "hourglassSum(a)"
   ]
  },
  {
   "cell_type": "code",
   "execution_count": 15,
   "id": "d60cf718",
   "metadata": {},
   "outputs": [
    {
     "data": {
      "text/plain": [
       "numpy.ndarray"
      ]
     },
     "execution_count": 15,
     "metadata": {},
     "output_type": "execute_result"
    }
   ],
   "source": [
    "type(rg)"
   ]
  },
  {
   "cell_type": "markdown",
   "id": "9099d010",
   "metadata": {},
   "source": [
    "## <a id='03'>Dynamic Array</a>"
   ]
  },
  {
   "cell_type": "code",
   "execution_count": null,
   "id": "b081875a",
   "metadata": {},
   "outputs": [],
   "source": []
  },
  {
   "cell_type": "markdown",
   "id": "171ed92f",
   "metadata": {},
   "source": [
    "## <a id='04'>Two Sum Array</a>"
   ]
  },
  {
   "cell_type": "raw",
   "id": "769fba0b",
   "metadata": {},
   "source": [
    "Given an array of integers nums and an integer target, return indices of the two numbers such that they add up to target.\n",
    "\n",
    "You may assume that each input would have exactly one solution, and you may not use the same element twice.\n",
    "\n",
    "You can return the answer in any order.\n",
    "\n",
    " \n",
    "\n",
    "Example 1:\n",
    "\n",
    "Input: nums = [2,7,11,15], target = 9\n",
    "Output: [0,1]\n",
    "Explanation: Because nums[0] + nums[1] == 9, we return [0, 1].\n",
    "Example 2:\n",
    "\n",
    "Input: nums = [3,2,4], target = 6\n",
    "Output: [1,2]"
   ]
  },
  {
   "cell_type": "code",
   "execution_count": 32,
   "id": "ebfe5f80",
   "metadata": {},
   "outputs": [
    {
     "data": {
      "text/plain": [
       "[1, 3]"
      ]
     },
     "execution_count": 32,
     "metadata": {},
     "output_type": "execute_result"
    }
   ],
   "source": [
    "def twoSum(List,target):\n",
    "    ls=[]\n",
    "    for i in range(len(List)):\n",
    "        for j in range(1,len(List)):\n",
    "            if List[i]+List[j]==target:\n",
    "                ls.append(i)\n",
    "#                 ls.append(j)\n",
    "    return ls\n",
    "\n",
    "List=[2,1,5,3]\n",
    "target=4\n",
    "a = twoSum(List,target)\n",
    "a"
   ]
  },
  {
   "cell_type": "markdown",
   "id": "8675d033",
   "metadata": {},
   "source": [
    "## HashMap"
   ]
  },
  {
   "cell_type": "code",
   "execution_count": 35,
   "id": "31818d09",
   "metadata": {},
   "outputs": [
    {
     "data": {
      "text/plain": [
       "[1, 3]"
      ]
     },
     "execution_count": 35,
     "metadata": {},
     "output_type": "execute_result"
    }
   ],
   "source": [
    "def twoSum(nums, target):\n",
    "    preMap={}      \n",
    "    for i, n in enumerate(nums):\n",
    "        diff = target - n\n",
    "        if diff in preMap:\n",
    "            return [preMap[diff], i]\n",
    "        preMap[n] = i\n",
    "        \n",
    "nums=[2,1,5,3]\n",
    "target=4\n",
    "a = twoSum(nums,target)\n",
    "a"
   ]
  },
  {
   "cell_type": "code",
   "execution_count": 55,
   "id": "81119d04",
   "metadata": {},
   "outputs": [
    {
     "name": "stdout",
     "output_type": "stream",
     "text": [
      "{2: 0, 3: 1, -1: 2, 1: 3}\n"
     ]
    }
   ],
   "source": [
    "lst=[2,1,5,3]\n",
    "mydict={}\n",
    "target=4\n",
    "for i,v in enumerate(lst):\n",
    "    diff = target - v\n",
    "    if diff in mydict:\n",
    "        print(\"Answer : \",[mydict[diff], i])\n",
    "    else:\n",
    "        mydict[diff] = i\n",
    "print(mydict)"
   ]
  },
  {
   "cell_type": "markdown",
   "id": "02b8c288",
   "metadata": {},
   "source": [
    "## <a id='#03'>Remove Duplicates from Sorted Array</a>"
   ]
  },
  {
   "cell_type": "raw",
   "id": "1fafda12",
   "metadata": {},
   "source": [
    "Given an integer array nums sorted in non-decreasing order, remove the duplicates in-place such that each unique element appears only once. The relative order of the elements should be kept the same.\n",
    "\n",
    "Since it is impossible to change the length of the array in some languages, you must instead have the result be placed in the first part of the array nums. More formally, if there are k elements after removing the duplicates, then the first k elements of nums should hold the final result. It does not matter what you leave beyond the first k elements.\n",
    "\n",
    "Return k after placing the final result in the first k slots of nums.\n",
    "\n",
    "Do not allocate extra space for another array. You must do this by modifying the input array in-place with O(1) extra memory.\n",
    "\n",
    "Custom Judge:\n",
    "\n",
    "The judge will test your solution with the following code:\n",
    "\n",
    "int[] nums = [...]; // Input array\n",
    "int[] expectedNums = [...]; // The expected answer with correct length\n",
    "\n",
    "int k = removeDuplicates(nums); // Calls your implementation\n",
    "\n",
    "assert k == expectedNums.length;\n",
    "for (int i = 0; i < k; i++) {\n",
    "    assert nums[i] == expectedNums[i];\n",
    "}\n",
    "If all assertions pass, then your solution will be accepted.\n",
    "\n",
    " \n",
    "\n",
    "Example 1:\n",
    "\n",
    "Input: nums = [1,1,2]\n",
    "Output: 2, nums = [1,2,_]\n",
    "Explanation: Your function should return k = 2, with the first two elements of nums being 1 and 2 respectively.\n",
    "It does not matter what you leave beyond the returned k (hence they are underscores).\n",
    "Example 2:\n",
    "\n",
    "Input: nums = [0,0,1,1,1,2,2,3,3,4]\n",
    "Output: 5, nums = [0,1,2,3,4,_,_,_,_,_]\n",
    "Explanation: Your function should return k = 5, with the first five elements of nums being 0, 1, 2, 3, and 4 respectively.\n",
    "It does not matter what you leave beyond the returned k (hence they are underscores)."
   ]
  },
  {
   "cell_type": "code",
   "execution_count": 68,
   "id": "dac6fff7",
   "metadata": {},
   "outputs": [
    {
     "data": {
      "text/plain": [
       "5"
      ]
     },
     "execution_count": 68,
     "metadata": {},
     "output_type": "execute_result"
    }
   ],
   "source": [
    "List = [0,0,1,1,1,2,2,3,3,4]\n",
    "unique = []\n",
    "def rmdup(List):\n",
    "    for i in List:\n",
    "        if i not in unique:\n",
    "            unique.append(i)\n",
    "    return len(unique)\n",
    "a=rmdup(List)\n",
    "a"
   ]
  },
  {
   "cell_type": "code",
   "execution_count": 67,
   "id": "6cad92c1",
   "metadata": {},
   "outputs": [
    {
     "data": {
      "text/plain": [
       "5"
      ]
     },
     "execution_count": 67,
     "metadata": {},
     "output_type": "execute_result"
    }
   ],
   "source": [
    "def removeDuplicates(List):\n",
    "    size = len(List)\n",
    "    insertIndex = 1\n",
    "    for i in range(1,size):\n",
    "        if List[i-1] != List[i]:\n",
    "            List[insertIndex] = List[i]\n",
    "#             print(insertIndex)\n",
    "            insertIndex += 1\n",
    "        i += 1\n",
    "    return insertIndex\n",
    "\n",
    "l=[0,0,1,1,1,2,2,3,3,4]\n",
    "b= removeDuplicates(l)\n",
    "b"
   ]
  },
  {
   "cell_type": "markdown",
   "id": "fb48a7a1",
   "metadata": {},
   "source": [
    "## <a id='06'> Remove Element </a>"
   ]
  },
  {
   "cell_type": "raw",
   "id": "f2017520",
   "metadata": {},
   "source": [
    "Given an integer array nums and an integer val, remove all occurrences of val in nums in-place. The relative order of the elements may be changed.\n",
    "\n",
    "Since it is impossible to change the length of the array in some languages, you must instead have the result be placed in the first part of the array nums. More formally, if there are k elements after removing the duplicates, then the first k elements of nums should hold the final result. It does not matter what you leave beyond the first k elements.\n",
    "\n",
    "Return k after placing the final result in the first k slots of nums.\n",
    "\n",
    "Do not allocate extra space for another array. You must do this by modifying the input array in-place with O(1) extra memory.\n",
    "\n",
    "Example 1:\n",
    "\n",
    "Input: nums = [3,2,2,3], val = 3\n",
    "Output: 2, nums = [2,2,_,_]\n",
    "Explanation: Your function should return k = 2, with the first two elements of nums being 2.\n",
    "It does not matter what you leave beyond the returned k (hence they are underscores)."
   ]
  },
  {
   "cell_type": "code",
   "execution_count": 5,
   "id": "592eb8f6",
   "metadata": {},
   "outputs": [
    {
     "name": "stdout",
     "output_type": "stream",
     "text": [
      "3\n",
      "3\n"
     ]
    },
    {
     "data": {
      "text/plain": [
       "2"
      ]
     },
     "execution_count": 5,
     "metadata": {},
     "output_type": "execute_result"
    }
   ],
   "source": [
    "def removeEle(lst,val):\n",
    "    while val in lst:\n",
    "        print( val)\n",
    "        lst.remove(val)\n",
    "    return len(lst)\n",
    "            \n",
    "nums = [3,2,2,3]\n",
    "val = 3 \n",
    "c = removeEle(nums,val)\n",
    "c"
   ]
  },
  {
   "cell_type": "markdown",
   "id": "9e0a0d6e",
   "metadata": {},
   "source": [
    "## <a id='07'> Search Insert Position </a>\n"
   ]
  },
  {
   "cell_type": "markdown",
   "id": "01430ab4",
   "metadata": {},
   "source": [
    "Given a sorted array of distinct integers and a target value, return the index if the target is found. If not, return the index where it would be if it were inserted in order.\n",
    "\n",
    "You must write an algorithm with O(log n) runtime complexity.\n",
    "\n",
    "Example 1:\n",
    "\n",
    "Input: nums = [1,3,5,6], target = 5\n",
    "Output: 2\n",
    "\n",
    "Example 2:\n",
    "\n",
    "Input: nums = [1,3,5,6], target = 2\n",
    "Output: 1"
   ]
  },
  {
   "cell_type": "code",
   "execution_count": 5,
   "id": "d2a9ea88",
   "metadata": {},
   "outputs": [
    {
     "data": {
      "text/plain": [
       "1"
      ]
     },
     "execution_count": 5,
     "metadata": {},
     "output_type": "execute_result"
    }
   ],
   "source": [
    "def searchinsert(List,target):\n",
    "    n = len(List)\n",
    "    left = 0\n",
    "    right = n-1\n",
    "    while left <= right:\n",
    "        mid = (left+right)//2\n",
    "        if List[mid]==target:\n",
    "            return \"find position\"\n",
    "        elif List[mid] < target:\n",
    "            left = mid+1\n",
    "        else:\n",
    "            right = mid -1\n",
    "    return left\n",
    "\n",
    "\n",
    "List=[1,3,5,6]\n",
    "target = 2\n",
    "\n",
    "s = searchinsert(List,target)\n",
    "s"
   ]
  },
  {
   "cell_type": "markdown",
   "id": "c781ba3a",
   "metadata": {},
   "source": [
    "## <a id='08'>Plus One </a>\n"
   ]
  },
  {
   "cell_type": "raw",
   "id": "6630f43d",
   "metadata": {},
   "source": [
    "You are given a large integer represented as an integer array digits, where each digits[i] is the ith digit of the integer. The digits are ordered from most significant to least significant in left-to-right order. The large integer does not contain any leading 0's.\n",
    "\n",
    "Increment the large integer by one and return the resulting array of digits.\n",
    "\n",
    " \n",
    "\n",
    "Example 1:\n",
    "\n",
    "Input: digits = [1,2,3]\n",
    "Output: [1,2,4]\n",
    "Explanation: The array represents the integer 123.\n",
    "Incrementing by one gives 123 + 1 = 124.\n",
    "Thus, the result should be [1,2,4].\n",
    "Example 2:\n",
    "\n",
    "Input: digits = [4,3,2,1]\n",
    "Output: [4,3,2,2]\n",
    "Explanation: The array represents the integer 4321.\n",
    "Incrementing by one gives 4321 + 1 = 4322.\n",
    "Thus, the result should be [4,3,2,2]."
   ]
  },
  {
   "cell_type": "code",
   "execution_count": 17,
   "id": "8ad12933",
   "metadata": {},
   "outputs": [
    {
     "data": {
      "text/plain": [
       "[4, 3, 2, 2]"
      ]
     },
     "execution_count": 17,
     "metadata": {},
     "output_type": "execute_result"
    }
   ],
   "source": [
    "digits = [4,3,2,1]\n",
    "y=0\n",
    "x=len(digits)\n",
    "k=[]\n",
    "\n",
    "for i in range(x):\n",
    "  y+=digits[i]*pow(10,x-1)\n",
    "  x-=1\n",
    "y+=1\n",
    "\n",
    "for i in str(y):\n",
    "  k.append(int(i))\n",
    "k  "
   ]
  },
  {
   "cell_type": "code",
   "execution_count": 21,
   "id": "605fd857",
   "metadata": {},
   "outputs": [
    {
     "data": {
      "text/plain": [
       "4000"
      ]
     },
     "execution_count": 21,
     "metadata": {},
     "output_type": "execute_result"
    }
   ],
   "source": [
    "4*pow(10,3)"
   ]
  },
  {
   "cell_type": "code",
   "execution_count": 22,
   "id": "af547173",
   "metadata": {},
   "outputs": [
    {
     "data": {
      "text/plain": [
       "300"
      ]
     },
     "execution_count": 22,
     "metadata": {},
     "output_type": "execute_result"
    }
   ],
   "source": [
    "3*pow(10,2)"
   ]
  },
  {
   "cell_type": "code",
   "execution_count": 23,
   "id": "44203e01",
   "metadata": {},
   "outputs": [
    {
     "data": {
      "text/plain": [
       "20"
      ]
     },
     "execution_count": 23,
     "metadata": {},
     "output_type": "execute_result"
    }
   ],
   "source": [
    "2*pow(10,1)"
   ]
  },
  {
   "cell_type": "code",
   "execution_count": 24,
   "id": "86622df1",
   "metadata": {},
   "outputs": [
    {
     "data": {
      "text/plain": [
       "2"
      ]
     },
     "execution_count": 24,
     "metadata": {},
     "output_type": "execute_result"
    }
   ],
   "source": [
    "2*pow(10,0)"
   ]
  },
  {
   "cell_type": "markdown",
   "id": "8558c326",
   "metadata": {},
   "source": [
    "## <a id='09'>Merge Sorted Array</a>\n"
   ]
  },
  {
   "cell_type": "markdown",
   "id": "c3963c39",
   "metadata": {},
   "source": [
    "You are given two integer arrays nums1 and nums2, sorted in non-decreasing order, and two integers m and n, representing the number of elements in nums1 and nums2 respectively.\n",
    "\n",
    "Merge nums1 and nums2 into a single array sorted in non-decreasing order.\n",
    "\n",
    "The final sorted array should not be returned by the function, but instead be stored inside the array nums1. To accommodate this, nums1 has a length of m + n, where the first m elements denote the elements that should be merged, and the last n elements are set to 0 and should be ignored. nums2 has a length of n.\n",
    "\n",
    " \n",
    "\n",
    "Example 1:\n",
    "\n",
    "Input: nums1 = [1,2,3,0,0,0], m = 3, nums2 = [2,5,6], n = 3\n",
    "Output: [1,2,2,3,5,6]\n",
    "Explanation: The arrays we are merging are [1,2,3] and [2,5,6].\n",
    "The result of the merge is [1,2,2,3,5,6] with the underlined elements coming from nums1.\n",
    "Example 2:\n",
    "\n",
    "Input: nums1 = [1], m = 1, nums2 = [], n = 0\n",
    "Output: [1]\n",
    "Explanation: The arrays we are merging are [1] and [].\n",
    "The result of the merge is [1]."
   ]
  },
  {
   "cell_type": "code",
   "execution_count": null,
   "id": "325a721d",
   "metadata": {},
   "outputs": [],
   "source": []
  },
  {
   "cell_type": "markdown",
   "id": "607680d3",
   "metadata": {},
   "source": [
    "## <a id='10'>Convert Sorted Array to Binary Search Tree</a>"
   ]
  },
  {
   "cell_type": "raw",
   "id": "f0fab32f",
   "metadata": {},
   "source": [
    "Given an integer array nums where the elements are sorted in ascending order, convert it to a height-balanced binary search tree.\n",
    "\n",
    "A height-balanced binary tree is a binary tree in which the depth of the two subtrees of every node never differs by more than one.\n",
    "\n",
    " \n",
    "\n",
    "Example 1:\n",
    "\n",
    "Input: nums = [-10,-3,0,5,9]\n",
    "Output: [0,-3,9,-10,null,5]\n",
    "Explanation: [0,-10,5,null,-3,null,9] is also accepted:"
   ]
  },
  {
   "cell_type": "code",
   "execution_count": 18,
   "id": "815ae8f5",
   "metadata": {},
   "outputs": [],
   "source": [
    "# Definition for a binary tree node.\n",
    "class TreeNode:\n",
    "    def __init__(self, val=0, left=None, right=None):\n",
    "        self.val = val\n",
    "        self.left = left\n",
    "        self.right = right\n",
    "    def sortedArrayToBST(nums):    \n",
    "        def helper(l,r):\n",
    "            if l>r:\n",
    "                return None\n",
    "            m = (l+r)//2\n",
    "            root = TreeNode(nums[m])\n",
    "            root.left = helper(l,m-1)\n",
    "            root.right = helper(m+1,r)\n",
    "            return root\n",
    "        return helper(0,len(nums)-1)\n",
    "    \n",
    "    def print_tree(self):\n",
    "        elements=[]\n",
    "        #visit left tree\n",
    "        if self.left:\n",
    "            elements += self.left.print_tree()\n",
    "        #visit base data\n",
    "        elements.append(self.val)\n",
    "        \n",
    "        #visit right tree\n",
    "        if self.right:\n",
    "            elements += self.right.print_tree()\n",
    "        return elements\n",
    "    \n",
    "            \n",
    "        "
   ]
  },
  {
   "cell_type": "code",
   "execution_count": 19,
   "id": "d52579e7",
   "metadata": {},
   "outputs": [],
   "source": [
    "# sol= Solution.sortedArrayToBST([-10,-3,0,5,9])"
   ]
  },
  {
   "cell_type": "code",
   "execution_count": 20,
   "id": "3cd122dc",
   "metadata": {},
   "outputs": [],
   "source": [
    "lst=[-10,-3,0,5,9]"
   ]
  },
  {
   "cell_type": "code",
   "execution_count": 21,
   "id": "181e42c5",
   "metadata": {},
   "outputs": [],
   "source": [
    "sol = TreeNode.sortedArrayToBST(lst)"
   ]
  },
  {
   "cell_type": "code",
   "execution_count": 22,
   "id": "7dd6f823",
   "metadata": {},
   "outputs": [
    {
     "data": {
      "text/plain": [
       "[-10, -3, 0, 5, 9]"
      ]
     },
     "execution_count": 22,
     "metadata": {},
     "output_type": "execute_result"
    }
   ],
   "source": [
    "sol.print_tree()"
   ]
  },
  {
   "cell_type": "code",
   "execution_count": 15,
   "id": "9661a35c",
   "metadata": {},
   "outputs": [
    {
     "name": "stdout",
     "output_type": "stream",
     "text": [
      "[1, 4, 9, 17, 18, 20, 23, 34]\n"
     ]
    }
   ],
   "source": [
    "# Definition for a binarySearchtree node.\n",
    "class TreeNode:\n",
    "    def __init__(self, data=0, left=None, right=None):\n",
    "        self.data = data\n",
    "        self.left = left\n",
    "        self.right = right\n",
    "        \n",
    "    def add_child(self, data):\n",
    "        if data == self.data:\n",
    "            return\n",
    "        if data < self.data:\n",
    "            if self.left:\n",
    "                self.left.add_child(data)\n",
    "            else:\n",
    "                self.left = TreeNode(data)\n",
    "        else:\n",
    "            if self.right:\n",
    "                self.right.add_child(data)\n",
    "            else:\n",
    "                self.right = TreeNode(data)\n",
    "                \n",
    "    def in_order_traversal(self):\n",
    "        elements=[]\n",
    "        #visit left tree\n",
    "        if self.left:\n",
    "            elements += self.left.in_order_traversal()\n",
    "            \n",
    "        #visit base data\n",
    "        elements.append(self.data)\n",
    "        #visit Right tree\n",
    "        if self.right:\n",
    "            elements += self.right.in_order_traversal()\n",
    "        \n",
    "        return elements\n",
    "            \n",
    "    def build_Tree(elements):\n",
    "        root = TreeNode(elements[0])\n",
    "\n",
    "        for i in range(1,len(elements)):\n",
    "            root.add_child(elements[i])\n",
    "        return root\n",
    "if __name__ == '__main__':\n",
    "    numbers = [17,4,1,20,9,23,18,34]\n",
    "    number_tree = build_Tree(numbers)\n",
    "    print(number_tree.in_order_traversal())"
   ]
  },
  {
   "cell_type": "code",
   "execution_count": 10,
   "id": "daa02991",
   "metadata": {},
   "outputs": [
    {
     "name": "stdout",
     "output_type": "stream",
     "text": [
      "1\n",
      "7\n"
     ]
    }
   ],
   "source": [
    "prices = [7,1,5,3,6,4]\n",
    "print(min(prices))\n",
    "print(max(prices))"
   ]
  },
  {
   "cell_type": "code",
   "execution_count": 14,
   "id": "007a4ce8",
   "metadata": {},
   "outputs": [
    {
     "data": {
      "text/plain": [
       "4"
      ]
     },
     "execution_count": 14,
     "metadata": {},
     "output_type": "execute_result"
    }
   ],
   "source": [
    "# index(element, start, end)\n",
    "prices.index(6)"
   ]
  },
  {
   "cell_type": "markdown",
   "id": "d6bceed8",
   "metadata": {},
   "source": [
    "## <a id='11'>Find max Profit</a>"
   ]
  },
  {
   "cell_type": "code",
   "execution_count": 4,
   "id": "73adcc52",
   "metadata": {},
   "outputs": [
    {
     "name": "stdout",
     "output_type": "stream",
     "text": [
      "kdhsk -6\n",
      "kdhsk 4\n",
      "4\n",
      "kdhsk 2\n",
      "4\n",
      "kdhsk 5\n",
      "5\n",
      "kdhsk 3\n",
      "5\n"
     ]
    },
    {
     "data": {
      "text/plain": [
       "5"
      ]
     },
     "execution_count": 4,
     "metadata": {},
     "output_type": "execute_result"
    }
   ],
   "source": [
    "def maxProfit(prices): \n",
    "    left = 0 #Buy\n",
    "    right = 1 #Sell\n",
    "    max_profit = 0\n",
    "    while right < len(prices):\n",
    "        currentProfit = prices[right] - prices[left] #our current Profit\n",
    "        print(\"kdhsk\",currentProfit)\n",
    "        if prices[left] < prices[right]:\n",
    "            max_profit =max(currentProfit,max_profit)\n",
    "            print(max_profit)\n",
    "        else:\n",
    "            left = right\n",
    "        right += 1\n",
    "    return max_profit\n",
    "\n",
    "\n",
    "        \n",
    "prices = [7,1,5,3,6,4]        \n",
    "s= maxProfit(prices)\n",
    "s"
   ]
  },
  {
   "cell_type": "markdown",
   "id": "fa5c6575",
   "metadata": {},
   "source": [
    "## <a id='12'>Contains Duplicate</a>\n"
   ]
  },
  {
   "cell_type": "code",
   "execution_count": 2,
   "id": "93645e75",
   "metadata": {},
   "outputs": [
    {
     "ename": "NameError",
     "evalue": "name 'List' is not defined",
     "output_type": "error",
     "traceback": [
      "\u001b[1;31m---------------------------------------------------------------------------\u001b[0m",
      "\u001b[1;31mNameError\u001b[0m                                 Traceback (most recent call last)",
      "Input \u001b[1;32mIn [2]\u001b[0m, in \u001b[0;36m<cell line: 1>\u001b[1;34m()\u001b[0m\n\u001b[1;32m----> 1\u001b[0m \u001b[38;5;28;01mdef\u001b[39;00m \u001b[38;5;21mcontainsDuplicate\u001b[39m(\u001b[38;5;28mself\u001b[39m, nums: \u001b[43mList\u001b[49m[\u001b[38;5;28mint\u001b[39m]) \u001b[38;5;241m-\u001b[39m\u001b[38;5;241m>\u001b[39m \u001b[38;5;28mbool\u001b[39m:\n\u001b[0;32m      3\u001b[0m         window_start \u001b[38;5;241m=\u001b[39m \u001b[38;5;241m0\u001b[39m\n\u001b[0;32m      5\u001b[0m         num_freq \u001b[38;5;241m=\u001b[39m {}\n",
      "\u001b[1;31mNameError\u001b[0m: name 'List' is not defined"
     ]
    }
   ],
   "source": [
    "def containsDuplicate(self, nums: List[int]) -> bool:\n",
    "    \n",
    "        window_start = 0\n",
    "\n",
    "        num_freq = {}\n",
    "\n",
    "        for window_end in range(len(nums)):\n",
    "            current = nums[window_end]\n",
    "\n",
    "            if current not in num_freq:\n",
    "                num_freq[current] = 1\n",
    "\n",
    "            else:\n",
    "                return True\n",
    "\n",
    "        return False"
   ]
  },
  {
   "cell_type": "code",
   "execution_count": 9,
   "id": "d3e1ae57",
   "metadata": {},
   "outputs": [
    {
     "ename": "IndentationError",
     "evalue": "expected an indented block (565350296.py, line 8)",
     "output_type": "error",
     "traceback": [
      "\u001b[1;36m  Input \u001b[1;32mIn [9]\u001b[1;36m\u001b[0m\n\u001b[1;33m    nums = [1,2,3,1]\u001b[0m\n\u001b[1;37m                    ^\u001b[0m\n\u001b[1;31mIndentationError\u001b[0m\u001b[1;31m:\u001b[0m expected an indented block\n"
     ]
    }
   ],
   "source": [
    "def containsDuplicate(nums):\n",
    "    lst=[]\n",
    "    for i in range(len(nums)):\n",
    "        if nums[i] in lst:\n",
    "            return True\n",
    "        else:\n",
    "  \n",
    "nums = [1,2,3,1]\n",
    "s= containsDuplicate(nums)"
   ]
  },
  {
   "cell_type": "code",
   "execution_count": null,
   "id": "3167bb2d",
   "metadata": {},
   "outputs": [],
   "source": []
  },
  {
   "cell_type": "code",
   "execution_count": 10,
   "id": "68a8b867",
   "metadata": {},
   "outputs": [],
   "source": [
    "## resursion\n",
    "\n",
    "def fobi(num):\n",
    "    if num==1:\n",
    "        return 1\n",
    "    return num+fobi(num-1)\n",
    "    \n"
   ]
  },
  {
   "cell_type": "code",
   "execution_count": 11,
   "id": "1d44650a",
   "metadata": {},
   "outputs": [
    {
     "data": {
      "text/plain": [
       "10"
      ]
     },
     "execution_count": 11,
     "metadata": {},
     "output_type": "execute_result"
    }
   ],
   "source": [
    "s = fobi(4)\n",
    "s"
   ]
  },
  {
   "cell_type": "code",
   "execution_count": 13,
   "id": "be7b21a8",
   "metadata": {},
   "outputs": [
    {
     "name": "stdout",
     "output_type": "stream",
     "text": [
      "[9]\n"
     ]
    }
   ],
   "source": [
    "l=[9]\n",
    "if len(l)==1:\n",
    "    print(l)"
   ]
  },
  {
   "cell_type": "markdown",
   "id": "3d8d1e77",
   "metadata": {},
   "source": [
    "\n",
    "## <a id='13'>Single Number</a>"
   ]
  },
  {
   "cell_type": "code",
   "execution_count": 25,
   "id": "a704c512",
   "metadata": {},
   "outputs": [
    {
     "name": "stdout",
     "output_type": "stream",
     "text": [
      "3\n"
     ]
    }
   ],
   "source": [
    "class Solution(object):\n",
    "   def singleNumber(self, nums):\n",
    "      \"\"\"\n",
    "      :type nums: List[int]\n",
    "      :rtype: int\n",
    "      \"\"\"\n",
    "      ans = nums[0]\n",
    "      for i in range(1,len(nums)):\n",
    "         ans ^=nums[i]\n",
    "      return ans\n",
    "ob1 = Solution()\n",
    "\n",
    "print(ob1.singleNumber([1,1,5,3,2,5,2]))"
   ]
  },
  {
   "cell_type": "code",
   "execution_count": 22,
   "id": "46d02adf",
   "metadata": {},
   "outputs": [
    {
     "data": {
      "text/plain": [
       "2"
      ]
     },
     "execution_count": 22,
     "metadata": {},
     "output_type": "execute_result"
    }
   ],
   "source": [
    "def singlenumber(nums):\n",
    "    sino=None\n",
    "    for i,v in enumerate(nums):\n",
    "        \n",
    "    return sino      \n",
    "nums = [2,2,1]\n",
    "sn=singlenumber(nums)\n",
    "sn       "
   ]
  },
  {
   "cell_type": "markdown",
   "id": "732c509c",
   "metadata": {},
   "source": [
    "## <a id='14'>Summary Ranges</a> "
   ]
  },
  {
   "cell_type": "raw",
   "id": "ccce6adc",
   "metadata": {},
   "source": [
    "You are given a sorted unique integer array nums.\n",
    "\n",
    "A range [a,b] is the set of all integers from a to b (inclusive).\n",
    "\n",
    "Return the smallest sorted list of ranges that cover all the numbers in the array exactly. That is, each element of nums is covered by exactly one of the ranges, and there is no integer x such that x is in one of the ranges but not in nums.\n",
    "\n",
    "Each range [a,b] in the list should be output as:\n",
    "\n",
    "\"a->b\" if a != b\n",
    "\"a\" if a == b\n",
    " \n",
    "\n",
    "Example 1:\n",
    "\n",
    "Input: nums = [0,1,2,4,5,7]\n",
    "Output: [\"0->2\",\"4->5\",\"7\"]\n",
    "Explanation: The ranges are:\n",
    "[0,2] --> \"0->2\"\n",
    "[4,5] --> \"4->5\"\n",
    "[7,7] --> \"7\"\n",
    "Example 2:\n",
    "\n",
    "Input: nums = [0,2,3,4,6,8,9]\n",
    "Output: [\"0\",\"2->4\",\"6\",\"8->9\"]\n",
    "Explanation: The ranges are:\n",
    "[0,0] --> \"0\"\n",
    "[2,4] --> \"2->4\"\n",
    "[6,6] --> \"6\"\n",
    "[8,9] --> \"8->9\"\n",
    " \n",
    "\n",
    "Constraints:\n",
    "\n",
    "0 <= nums.length <= 20\n",
    "-231 <= nums[i] <= 231 - 1\n",
    "All the values of nums are unique.\n",
    "nums is sorted in ascending order.\n"
   ]
  },
  {
   "cell_type": "code",
   "execution_count": 27,
   "id": "3678ee0d",
   "metadata": {},
   "outputs": [
    {
     "name": "stdout",
     "output_type": "stream",
     "text": [
      "['0', '2->4', '6', '8->9']\n"
     ]
    }
   ],
   "source": [
    "nums = [0,2,3,4,6,8,9]\n",
    "\n",
    "i=0\n",
    "result=[]\n",
    "if (len(nums)==0):\n",
    "    print(None)\n",
    "while (i < len(nums)):\n",
    "    j=i+1\n",
    "    while (j<len(nums)):\n",
    "        if (nums[j-1]+1==nums[j]):\n",
    "            j+=1\n",
    "        else:\n",
    "            break\n",
    "    if (j-i==1):\n",
    "        result.append(str(nums[i]))\n",
    "    else:\n",
    "        result.append(str(nums[i])+'->'+str(nums[j-1]))\n",
    "    i=j\n",
    "print(result)\n"
   ]
  },
  {
   "cell_type": "markdown",
   "id": "1dfd6f9d",
   "metadata": {},
   "source": [
    "## <a id='15'>Pascal's Triangle</a>"
   ]
  },
  {
   "cell_type": "raw",
   "id": "4918494d",
   "metadata": {},
   "source": [
    "Given an integer numRows, return the first numRows of Pascal's triangle.\n",
    "\n",
    "In Pascal's triangle, each number is the sum of the two numbers directly above it as shown:\n",
    "\n",
    "\n",
    " \n",
    "\n",
    "Example 1:\n",
    "\n",
    "Input: numRows = 5\n",
    "Output: [[1],[1,1],[1,2,1],[1,3,3,1],[1,4,6,4,1]]\n",
    "Example 2:\n",
    "\n",
    "Input: numRows = 1\n",
    "Output: [[1]]"
   ]
  },
  {
   "cell_type": "code",
   "execution_count": 24,
   "id": "ac8bf2f7",
   "metadata": {},
   "outputs": [
    {
     "name": "stdout",
     "output_type": "stream",
     "text": [
      "[[1], [1, 1], [1, 2, 1], [1, 3, 3, 1]]\n"
     ]
    }
   ],
   "source": [
    "numRows=4\n",
    "res = [[1], [1,1]]\n",
    "if numRows == 1:\n",
    "    print([[1]])\n",
    "elif numRows == 2:\n",
    "    print(res)\n",
    "\n",
    "for i in range(1, (numRows-1)):\n",
    "    l, r = 0,1\n",
    "    cand = [1]\n",
    "    while r < len(res[i]):\n",
    "        cand.append(res[i][l] + res[i][r])\n",
    "        l += 1\n",
    "        r += 1\n",
    "    cand.append(1) \n",
    "    res.append(cand)\n",
    "\n",
    "print(res)"
   ]
  },
  {
   "cell_type": "markdown",
   "id": "b99d0933",
   "metadata": {},
   "source": [
    "## <a id='16'>Richest Customer Wealth</a>"
   ]
  },
  {
   "cell_type": "raw",
   "id": "0d0bbd9c",
   "metadata": {},
   "source": [
    "You are given an m x n integer grid accounts where accounts[i][j] is the amount of money the i​​​​​​​​​​​th​​​​ customer has in the j​​​​​​​​​​​th​​​​ bank. Return the wealth that the richest customer has.\n",
    "\n",
    "A customer's wealth is the amount of money they have in all their bank accounts. The richest customer is the customer that has the maximum wealth.\n",
    "\n",
    " \n",
    "\n",
    "Example 1:\n",
    "\n",
    "Input: accounts = [[1,2,3],[3,2,1]]\n",
    "Output: 6\n",
    "Explanation:\n",
    "1st customer has wealth = 1 + 2 + 3 = 6\n",
    "2nd customer has wealth = 3 + 2 + 1 = 6\n",
    "Both customers are considered the richest with a wealth of 6 each, so return 6.\n",
    "Example 2:\n",
    "\n",
    "Input: accounts = [[1,5],[7,3],[3,5]]\n",
    "Output: 10\n",
    "Explanation: \n",
    "1st customer has wealth = 6\n",
    "2nd customer has wealth = 10 \n",
    "3rd customer has wealth = 8\n",
    "The 2nd customer is the richest with a wealth of 10.\n",
    "Example 3:\n",
    "\n",
    "Input: accounts = [[2,8,7],[7,1,3],[1,9,5]]\n",
    "Output: 17\n",
    " \n",
    "\n",
    "Constraints:\n",
    "\n",
    "m == accounts.length\n",
    "n == accounts[i].length\n",
    "1 <= m, n <= 50\n",
    "1 <= accounts[i][j] <= 100"
   ]
  },
  {
   "cell_type": "code",
   "execution_count": 5,
   "id": "56e4396a",
   "metadata": {},
   "outputs": [
    {
     "data": {
      "text/plain": [
       "17"
      ]
     },
     "execution_count": 5,
     "metadata": {},
     "output_type": "execute_result"
    }
   ],
   "source": [
    "accounts = [[2,8,7],[7,1,3],[1,9,5]]\n",
    "welths=[]\n",
    "for i in accounts:\n",
    "    count=0\n",
    "    for j in i:\n",
    "        count+=j\n",
    "    welths.append(count)\n",
    "max(welths)"
   ]
  },
  {
   "cell_type": "code",
   "execution_count": null,
   "id": "496b5d4a",
   "metadata": {},
   "outputs": [],
   "source": []
  }
 ],
 "metadata": {
  "kernelspec": {
   "display_name": "Python 3 (ipykernel)",
   "language": "python",
   "name": "python3"
  },
  "language_info": {
   "codemirror_mode": {
    "name": "ipython",
    "version": 3
   },
   "file_extension": ".py",
   "mimetype": "text/x-python",
   "name": "python",
   "nbconvert_exporter": "python",
   "pygments_lexer": "ipython3",
   "version": "3.9.12"
  }
 },
 "nbformat": 4,
 "nbformat_minor": 5
}
