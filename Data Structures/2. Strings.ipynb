{
 "cells": [
  {
   "cell_type": "markdown",
   "id": "8839c092",
   "metadata": {},
   "source": [
    "# Strings"
   ]
  },
  {
   "cell_type": "markdown",
   "id": "80675ea9",
   "metadata": {},
   "source": [
    "## Table Of Content\n",
    "\n",
    "1) <a href='#01'> Roman to Integer </a>\n",
    "\n",
    "2) <a href='#02'> Longest Common Prefix </a>\n",
    "\n",
    "3) <a href='#03'> Length of last word </a>\n",
    "\n",
    "4) <a href='#04'> Add Binery </a>\n",
    "\n",
    "5) <a href='#05'> Valid Palindrome </a>\n",
    "\n",
    "6) <a href='#06'> Isomorphic String </a>\n",
    "\n",
    "7) <a href='#07'> Excel Sheet Column Title </a>\n",
    "\n",
    "8) <a href='#08'> Valid Anagram </a>\n",
    "\n",
    "09) <a href='#09'> Remove All Adjacent Duplicates In String </a>\n",
    "\n",
    "10) <a href='#10'> Defanging an IP Address </a>\n",
    "\n",
    "11) <a href='#11'> DI string Match </a>\n",
    "\n",
    "12) <a href='#12'> Rotate String </a>\n",
    "\n",
    "13) <a href='#13'> Fizz Buzz </a>"
   ]
  },
  {
   "cell_type": "code",
   "execution_count": null,
   "id": "3bd12540",
   "metadata": {},
   "outputs": [],
   "source": []
  },
  {
   "cell_type": "markdown",
   "id": "3d8766a4",
   "metadata": {},
   "source": [
    "## <a id='01'> Roman to Integer<a/>"
   ]
  },
  {
   "cell_type": "raw",
   "id": "493e562b",
   "metadata": {},
   "source": [
    "Roman numerals are represented by seven different symbols: I, V, X, L, C, D and M.\n",
    "\n",
    "Symbol       Value\n",
    "I             1\n",
    "V             5\n",
    "X             10\n",
    "L             50\n",
    "C             100\n",
    "D             500\n",
    "M             1000\n",
    "For example, 2 is written as II in Roman numeral, just two ones added together. 12 is written as XII, which is simply X + II. The number 27 is written as XXVII, which is XX + V + II.\n",
    "\n",
    "Roman numerals are usually written largest to smallest from left to right. However, the numeral for four is not IIII. Instead, the number four is written as IV. Because the one is before the five we subtract it making four. The same principle applies to the number nine, which is written as IX. There are six instances where subtraction is used:\n",
    "\n",
    "I can be placed before V (5) and X (10) to make 4 and 9. \n",
    "X can be placed before L (50) and C (100) to make 40 and 90. \n",
    "C can be placed before D (500) and M (1000) to make 400 and 900.\n",
    "Given a roman numeral, convert it to an integer.\n",
    "\n",
    " \n",
    "\n",
    "Example 1:\n",
    "\n",
    "Input: s = \"III\"\n",
    "Output: 3\n",
    "Explanation: III = 3.\n",
    "Example 2:\n",
    "\n",
    "Input: s = \"LVIII\"\n",
    "Output: 58\n",
    "Explanation: L = 50, V= 5, III = 3."
   ]
  },
  {
   "cell_type": "code",
   "execution_count": 6,
   "id": "1e30aa11",
   "metadata": {},
   "outputs": [
    {
     "data": {
      "text/plain": [
       "14"
      ]
     },
     "execution_count": 6,
     "metadata": {},
     "output_type": "execute_result"
    }
   ],
   "source": [
    "roman_dictionary = {\n",
    "        'I': 1, 'V': 5, 'X': 10, 'L': 50,\n",
    "        'C': 100, 'D': 500, 'M': 1000\n",
    "    }\n",
    "\n",
    "def romanToInt(s):\n",
    "    roman_values = [roman_dictionary[symbol] for symbol in s]\n",
    "\n",
    "    for k, v in enumerate(roman_values):\n",
    "        try:\n",
    "            if roman_values[k] < roman_values[k + 1]:\n",
    "                roman_values[k] = roman_values[k + 1] - roman_values[k]\n",
    "                del roman_values[k+1]\n",
    "        except Exception:\n",
    "            pass\n",
    "\n",
    "    return sum(roman_values)\n",
    "\n",
    "romanToInt('XIV')"
   ]
  },
  {
   "cell_type": "code",
   "execution_count": 5,
   "id": "f490883c",
   "metadata": {},
   "outputs": [
    {
     "name": "stdout",
     "output_type": "stream",
     "text": [
      "['X', 'I', 'V']\n",
      "16\n"
     ]
    }
   ],
   "source": [
    "string='XIV'\n",
    "print([x for x in string])\n",
    "roman = [roman_dictionary[x] for x in string]\n",
    "if \n",
    "print(sum(roman))"
   ]
  },
  {
   "cell_type": "markdown",
   "id": "ff57509c",
   "metadata": {},
   "source": [
    "## <a id='02'> Longest Common Prefix <a/>"
   ]
  },
  {
   "cell_type": "raw",
   "id": "04e4171e",
   "metadata": {},
   "source": [
    "Write a function to find the longest common prefix string amongst an array of strings.\n",
    "\n",
    "If there is no common prefix, return an empty string \"\".\n",
    "\n",
    " \n",
    "\n",
    "Example 1:\n",
    "\n",
    "Input: strs = [\"flower\",\"flow\",\"flight\"]\n",
    "Output: \"fl\"\n",
    "Example 2:\n",
    "\n",
    "Input: strs = [\"dog\",\"racecar\",\"car\"]\n",
    "Output: \"\"\n",
    "Explanation: There is no common prefix among the input strings.\n",
    " \n",
    "\n",
    "Constraints:\n",
    "\n",
    "1 <= strs.length <= 200\n",
    "0 <= strs[i].length <= 200\n",
    "strs[i] consists of only lowercase English letters."
   ]
  },
  {
   "cell_type": "code",
   "execution_count": 39,
   "id": "18bb6742",
   "metadata": {},
   "outputs": [
    {
     "name": "stdout",
     "output_type": "stream",
     "text": [
      "fl\n"
     ]
    }
   ],
   "source": [
    "strs = [\"flower\",\"flow\",\"flight\"]\n",
    "if len(strs) == 1:\n",
    "    print(strs[0])\n",
    "    \n",
    "i = 0\n",
    "out_s = ''\n",
    "while i < len(strs[0]):\n",
    "    word = strs[0][i]\n",
    "    count = 0\n",
    "    for n in strs[1:]:\n",
    "        try:\n",
    "            if word == n[i]:\n",
    "                count +=1\n",
    "        except IndexError:\n",
    "            break\n",
    "    if count == len(strs[1:]):\n",
    "        out_s += word\n",
    "    else:\n",
    "        break\n",
    "    i += 1\n",
    "print(out_s)\n",
    "            \n",
    "                "
   ]
  },
  {
   "cell_type": "markdown",
   "id": "3c99bb49",
   "metadata": {},
   "source": [
    "## <a id='03'> Length of Last Word <a/>"
   ]
  },
  {
   "cell_type": "raw",
   "id": "c023e602",
   "metadata": {},
   "source": [
    "Given a string s consisting of words and spaces, return the length of the last word in the string.\n",
    "\n",
    "A word is a maximal substring consisting of non-space characters only.\n",
    "\n",
    " \n",
    "\n",
    "Example 1:\n",
    "\n",
    "Input: s = \"Hello World\"\n",
    "Output: 5\n",
    "Explanation: The last word is \"World\" with length 5.\n",
    "Example 2:\n",
    "\n",
    "Input: s = \"   fly me   to   the moon  \"\n",
    "Output: 4\n",
    "Explanation: The last word is \"moon\" with length 4.\n",
    "Example 3:\n",
    "\n",
    "Input: s = \"luffy is still joyboy\"\n",
    "Output: 6\n",
    "Explanation: The last word is \"joyboy\" with length 6.\n",
    " \n",
    "\n",
    "Constraints:\n",
    "\n",
    "1 <= s.length <= 104\n",
    "s consists of only English letters and spaces ' '.\n",
    "There will be at least one word in s."
   ]
  },
  {
   "cell_type": "code",
   "execution_count": 8,
   "id": "3283cec9",
   "metadata": {},
   "outputs": [],
   "source": [
    "s = \"   fly me   to   the moon  \"\n",
    "def lengthOfLastWord(s):\n",
    "    words_list = s.split()\n",
    "    length = len(words_list[-1])\n",
    "    return length"
   ]
  },
  {
   "cell_type": "code",
   "execution_count": 9,
   "id": "6eb8e0c0",
   "metadata": {},
   "outputs": [
    {
     "data": {
      "text/plain": [
       "4"
      ]
     },
     "execution_count": 9,
     "metadata": {},
     "output_type": "execute_result"
    }
   ],
   "source": [
    "lengthOfLastWord(s)"
   ]
  },
  {
   "cell_type": "markdown",
   "id": "3ed54752",
   "metadata": {},
   "source": [
    "## <a id='04'> Add Binary<a/>"
   ]
  },
  {
   "cell_type": "raw",
   "id": "510969be",
   "metadata": {},
   "source": [
    "Given two binary strings a and b, return their sum as a binary string.\n",
    "\n",
    "Example 1:\n",
    "\n",
    "Input: a = \"11\", b = \"1\"\n",
    "Output: \"100\"\n",
    "Example 2:\n",
    "\n",
    "Input: a = \"1010\", b = \"1011\"\n",
    "Output: \"10101\"\n",
    " \n",
    "\n",
    "Constraints:\n",
    "\n",
    "1 <= a.length, b.length <= 104\n",
    "a and b consist only of '0' or '1' characters.\n",
    "Each string does not contain leading zeros except for the zero itself."
   ]
  },
  {
   "cell_type": "code",
   "execution_count": 19,
   "id": "4d5a4c1a",
   "metadata": {},
   "outputs": [
    {
     "data": {
      "text/plain": [
       "'100'"
      ]
     },
     "execution_count": 19,
     "metadata": {},
     "output_type": "execute_result"
    }
   ],
   "source": [
    "def addBinary(a, b):\n",
    "    a = int(a,2)\n",
    "    b = int(b,2)\n",
    "    return bin(a+b)[2:]\n",
    "\n",
    "addBinary('1','11')"
   ]
  },
  {
   "cell_type": "markdown",
   "id": "acf1f5b5",
   "metadata": {},
   "source": [
    "## <a id='05'> Valid Palindrome <a/>"
   ]
  },
  {
   "cell_type": "raw",
   "id": "63dfbf08",
   "metadata": {},
   "source": [
    "A phrase is a palindrome if, after converting all uppercase letters into lowercase letters and removing all non-alphanumeric characters, it reads the same forward and backward. Alphanumeric characters include letters and numbers.\n",
    "\n",
    "Given a string s, return true if it is a palindrome, or false otherwise.\n",
    "\n",
    "Example 1:\n",
    "\n",
    "Input: s = \"A man, a plan, a canal: Panama\"\n",
    "Output: true\n",
    "Explanation: \"amanaplanacanalpanama\" is a palindrome.\n",
    "Example 2:\n",
    "\n",
    "Input: s = \"race a car\"\n",
    "Output: false\n",
    "Explanation: \"raceacar\" is not a palindrome.\n",
    "Example 3:\n",
    "\n",
    "Input: s = \" \"\n",
    "Output: true\n",
    "Explanation: s is an empty string \"\" after removing non-alphanumeric characters.\n",
    "Since an empty string reads the same forward and backward, it is a palindrome.\n",
    " \n",
    "\n",
    "Constraints:\n",
    "\n",
    "1 <= s.length <= 2 * 105\n",
    "s consists only of printable ASCII characters."
   ]
  },
  {
   "cell_type": "code",
   "execution_count": 56,
   "id": "c0ccd5c9",
   "metadata": {},
   "outputs": [
    {
     "name": "stdout",
     "output_type": "stream",
     "text": [
      "True\n"
     ]
    }
   ],
   "source": [
    "s = \"A man, a plan, a canal: Panama\"\n",
    "res=s[::-1]\n",
    "si=[]\n",
    "for i in s:\n",
    "    if i.isalnum():\n",
    "        si.append(i.lower())\n",
    "ss=''.join(si)\n",
    "if ss == ss[::-1]:\n",
    "    print(True)"
   ]
  },
  {
   "cell_type": "code",
   "execution_count": 2,
   "id": "f2e2a551",
   "metadata": {},
   "outputs": [
    {
     "data": {
      "text/plain": [
       "\"\\ns = ''.join([a.lower() for a in s if a.isalnum()])\\n        return True if s[::-1] == s else False\\n        \""
      ]
     },
     "execution_count": 2,
     "metadata": {},
     "output_type": "execute_result"
    }
   ],
   "source": [
    "\"\"\"\n",
    "s = ''.join([a.lower() for a in s if a.isalnum()])\n",
    "        return True if s[::-1] == s else False\n",
    "        \"\"\""
   ]
  },
  {
   "cell_type": "markdown",
   "id": "b44981c6",
   "metadata": {},
   "source": [
    "## <a id='06'> Isomorphic Srtings <a/>"
   ]
  },
  {
   "cell_type": "raw",
   "id": "3b4d3eb4",
   "metadata": {},
   "source": [
    "Given two strings s and t, determine if they are isomorphic.\n",
    "\n",
    "Two strings s and t are isomorphic if the characters in s can be replaced to get t.\n",
    "\n",
    "All occurrences of a character must be replaced with another character while preserving the order of characters. No two characters may map to the same character, but a character may map to itself.\n",
    "\n",
    " \n",
    "\n",
    "Example 1:\n",
    "\n",
    "Input: s = \"egg\", t = \"add\"\n",
    "Output: true\n",
    "Example 2:\n",
    "\n",
    "Input: s = \"foo\", t = \"bar\"\n",
    "Output: false\n",
    "Example 3:\n",
    "\n",
    "Input: s = \"paper\", t = \"title\"\n",
    "Output: true\n",
    " \n",
    "\n",
    "Constraints:\n",
    "\n",
    "1 <= s.length <= 5 * 104\n",
    "t.length == s.length\n",
    "s and t consist of any valid ascii character."
   ]
  },
  {
   "cell_type": "code",
   "execution_count": 7,
   "id": "14df9075",
   "metadata": {},
   "outputs": [],
   "source": [
    "class Solution:\n",
    "\tdef isIsomorphic(self, s: str, t: str) -> bool:\n",
    "\t\tmapST, mapTS={},{}\n",
    "\t\tfor c1,c2 in zip(s,t):\n",
    "\t\t\tif((c1 in mapST and mapST[c1]!=c2) or\n",
    "\t\t\t   (c2 in mapTS and mapTS[c2]!=c1)):\n",
    "\t\t\t\treturn False\n",
    "\n",
    "\t\t\tmapST[c1]=c2\n",
    "\t\t\tmapTS[c2]=c1\n",
    "\t\treturn True"
   ]
  },
  {
   "cell_type": "markdown",
   "id": "8ca02216",
   "metadata": {},
   "source": [
    "## <a id='07'> Excel Sheet Column Title <a/>"
   ]
  },
  {
   "cell_type": "raw",
   "id": "d43244f0",
   "metadata": {},
   "source": [
    "Given an integer columnNumber, return its corresponding column title as it appears in an Excel sheet.\n",
    "\n",
    "For example:\n",
    "\n",
    "A -> 1\n",
    "B -> 2\n",
    "C -> 3\n",
    "...\n",
    "Z -> 26\n",
    "AA -> 27\n",
    "AB -> 28 \n",
    "...\n",
    " \n",
    "\n",
    "Example 1:\n",
    "\n",
    "Input: columnNumber = 1\n",
    "Output: \"A\"\n",
    "Example 2:\n",
    "\n",
    "Input: columnNumber = 28\n",
    "Output: \"AB\"\n",
    "Example 3:\n",
    "\n",
    "Input: columnNumber = 701\n",
    "Output: \"ZY\"\n",
    " \n",
    "\n",
    "Constraints:\n",
    "\n",
    "1 <= columnNumber <= 231 - 1"
   ]
  },
  {
   "cell_type": "code",
   "execution_count": 43,
   "id": "a8280c8b",
   "metadata": {},
   "outputs": [
    {
     "name": "stdout",
     "output_type": "stream",
     "text": [
      "ABCDEFGHIJKLMNOPQRSTUVWXYZ\n",
      "ZY\n"
     ]
    }
   ],
   "source": [
    "\n",
    "n = 701\n",
    "lst = []\n",
    "# f = inputi//26\n",
    "# print(f)\n",
    "while n > 0:\n",
    "    n -= 1\n",
    "    curr = n%26\n",
    "    n = int(n/26)\n",
    "    lst.append(chr(curr+ord('A')))\n",
    "    \n",
    "print(\"\".join(lst[::-1]))"
   ]
  },
  {
   "cell_type": "code",
   "execution_count": 42,
   "id": "8ad215e5",
   "metadata": {},
   "outputs": [
    {
     "data": {
      "text/plain": [
       "65"
      ]
     },
     "execution_count": 42,
     "metadata": {},
     "output_type": "execute_result"
    }
   ],
   "source": [
    "ord('A')"
   ]
  },
  {
   "cell_type": "code",
   "execution_count": 45,
   "id": "d991ff83",
   "metadata": {},
   "outputs": [
    {
     "name": "stdout",
     "output_type": "stream",
     "text": [
      "ABCDEFGHIJKLMNOPQRSTUVWXYZ\n"
     ]
    },
    {
     "data": {
      "text/plain": [
       "'Z'"
      ]
     },
     "execution_count": 45,
     "metadata": {},
     "output_type": "execute_result"
    }
   ],
   "source": [
    "import string\n",
    "a=string.ascii_uppercase\n",
    "print(a)\n",
    "\n",
    "i = 701%26\n",
    "a[i]"
   ]
  },
  {
   "cell_type": "markdown",
   "id": "22ff3895",
   "metadata": {},
   "source": [
    "## <a id='08'> Valid Anagram <a/>"
   ]
  },
  {
   "cell_type": "raw",
   "id": "91d9c7f3",
   "metadata": {},
   "source": [
    "Given two strings s and t, return true if t is an anagram of s, and false otherwise.\n",
    "\n",
    "An Anagram is a word or phrase formed by rearranging the letters of a different word or phrase, typically using all the original letters exactly once.\n",
    "\n",
    " \n",
    "\n",
    "Example 1:\n",
    "\n",
    "Input: s = \"anagram\", t = \"nagaram\"\n",
    "Output: true\n",
    "Example 2:\n",
    "\n",
    "Input: s = \"rat\", t = \"car\"\n",
    "Output: false\n",
    " \n",
    "\n",
    "Constraints:\n",
    "\n",
    "1 <= s.length, t.length <= 5 * 104\n",
    "s and t consist of lowercase English letters."
   ]
  },
  {
   "cell_type": "code",
   "execution_count": 1,
   "id": "ae9a488f",
   "metadata": {},
   "outputs": [],
   "source": [
    "class Solution:\n",
    "    def isAnagram(self, s: str, t: str) -> bool:\n",
    "         if len(s) == len(t):\n",
    "            for i in s:\n",
    "                if s.count(i) != t.count(i):\n",
    "                    return False \n",
    "            return True \n",
    "         else:\n",
    "                return False\n"
   ]
  },
  {
   "cell_type": "markdown",
   "id": "d2306a7b",
   "metadata": {},
   "source": [
    "## <a id='09'> Remove All Adjacent Duplicates In String <a/>"
   ]
  },
  {
   "cell_type": "raw",
   "id": "f6263da6",
   "metadata": {},
   "source": [
    "You are given a string s consisting of lowercase English letters. A duplicate removal consists of choosing two adjacent and equal letters and removing them.\n",
    "\n",
    "We repeatedly make duplicate removals on s until we no longer can.\n",
    "\n",
    "Return the final string after all such duplicate removals have been made. It can be proven that the answer is unique.\n",
    "\n",
    " \n",
    "\n",
    "Example 1:\n",
    "\n",
    "Input: s = \"abbaca\"\n",
    "Output: \"ca\"\n",
    "Explanation: \n",
    "For example, in \"abbaca\" we could remove \"bb\" since the letters are adjacent and equal, and this is the only possible move.  The result of this move is that the string is \"aaca\", of which only \"aa\" is possible, so the final string is \"ca\".\n",
    "Example 2:\n",
    "\n",
    "Input: s = \"azxxzy\"\n",
    "Output: \"ay\"\n",
    " \n",
    "\n",
    "Constraints:\n",
    "\n",
    "1 <= s.length <= 105\n",
    "s consists of lowercase English letters."
   ]
  },
  {
   "cell_type": "code",
   "execution_count": 25,
   "id": "53a24cb6",
   "metadata": {},
   "outputs": [
    {
     "data": {
      "text/plain": [
       "[]"
      ]
     },
     "execution_count": 25,
     "metadata": {},
     "output_type": "execute_result"
    }
   ],
   "source": [
    "s = \"azxxzy\"\n",
    "def rmdupli(s):\n",
    "    s=[]\n",
    "    for i in s:\n",
    "        print(i)\n",
    "        s.append(i)\n",
    "    return s\n",
    "        \n",
    "rmdupli(s)"
   ]
  },
  {
   "cell_type": "code",
   "execution_count": 14,
   "id": "e2fc2dae",
   "metadata": {},
   "outputs": [
    {
     "data": {
      "text/plain": [
       "'azzy'"
      ]
     },
     "execution_count": 14,
     "metadata": {},
     "output_type": "execute_result"
    }
   ],
   "source": [
    "s = \"azxxzy\"\n",
    "s[0:2]+s[2+2:]"
   ]
  },
  {
   "cell_type": "code",
   "execution_count": 35,
   "id": "62f4b127",
   "metadata": {},
   "outputs": [
    {
     "data": {
      "text/plain": [
       "'ay'"
      ]
     },
     "execution_count": 35,
     "metadata": {},
     "output_type": "execute_result"
    }
   ],
   "source": [
    "s = \"azxxzy\"\n",
    "a=[]\n",
    "for i in s:\n",
    "    if len(a) > 0:\n",
    "        if i == a[-1]:\n",
    "            a.pop(-1)\n",
    "        else:\n",
    "            a.append(i)\n",
    "    else:\n",
    "        a.append(i)\n",
    "        \n",
    "''.join(a)\n"
   ]
  },
  {
   "cell_type": "markdown",
   "id": "637ee6e9",
   "metadata": {},
   "source": [
    "## <a id='10'> Defanging an IP Address <a/>"
   ]
  },
  {
   "cell_type": "raw",
   "id": "df5b06e4",
   "metadata": {},
   "source": [
    "Given a valid (IPv4) IP address, return a defanged version of that IP address.\n",
    "\n",
    "A defanged IP address replaces every period \".\" with \"[.]\".\n",
    "\n",
    " \n",
    "\n",
    "Example 1:\n",
    "\n",
    "Input: address = \"1.1.1.1\"\n",
    "Output: \"1[.]1[.]1[.]1\"\n",
    "Example 2:\n",
    "\n",
    "Input: address = \"255.100.50.0\"\n",
    "Output: \"255[.]100[.]50[.]0\"\n",
    " \n",
    "\n",
    "Constraints:\n",
    "\n",
    "The given address is a valid IPv4 address."
   ]
  },
  {
   "cell_type": "code",
   "execution_count": 40,
   "id": "eee7a405",
   "metadata": {},
   "outputs": [
    {
     "data": {
      "text/plain": [
       "'1[.]1[.]1[.]1'"
      ]
     },
     "execution_count": 40,
     "metadata": {},
     "output_type": "execute_result"
    }
   ],
   "source": [
    "address = \"1.1.1.1\"\n",
    "def defrag(address):\n",
    "    lst=address.split('.')\n",
    "    return \"[.]\".join(lst)\n",
    "defrag(address)"
   ]
  },
  {
   "cell_type": "markdown",
   "id": "505d4495",
   "metadata": {},
   "source": [
    "## <a id='11'> DI String Match <a/>"
   ]
  },
  {
   "cell_type": "raw",
   "id": "9e2cf431",
   "metadata": {},
   "source": [
    "A permutation perm of n + 1 integers of all the integers in the range [0, n] can be represented as a string s of length n where:\n",
    "\n",
    "s[i] == 'I' if perm[i] < perm[i + 1], and\n",
    "s[i] == 'D' if perm[i] > perm[i + 1].\n",
    "Given a string s, reconstruct the permutation perm and return it. If there are multiple valid permutations perm, return any of them.\n",
    "\n",
    " \n",
    "\n",
    "Example 1:\n",
    "\n",
    "Input: s = \"IDID\"\n",
    "Output: [0,4,1,3,2]\n",
    "Example 2:\n",
    "\n",
    "Input: s = \"III\"\n",
    "Output: [0,1,2,3]\n",
    "Example 3:\n",
    "\n",
    "Input: s = \"DDI\"\n",
    "Output: [3,2,0,1]\n",
    " \n",
    "\n",
    "Constraints:\n",
    "\n",
    "1 <= s.length <= 105\n",
    "s[i] is either 'I' or 'D'.\n",
    "\n",
    "Approach 1: Ad-Hoc\n",
    "Intuition\n",
    "\n",
    "If we see say S[0] == 'I', we can always put 0 as the first element; similarly, if we see S[0] == 'D', we can always put N as the first element.\n",
    "\n",
    "Say we have a match for the rest of the string S[1], S[2], ... using N distinct elements. Notice it doesn't matter what the elements are, only that they are distinct and totally ordered. Then, putting 0 or N at the first character will match, and the rest of the elements (1, 2, ..., N or 0, 1, ..., N-1) can use the matching we have.\n",
    "\n",
    "Algorithm\n",
    "\n",
    "Keep track of the smallest and largest element we haven't placed. If we see an 'I', place the small element; otherwise place the large element."
   ]
  },
  {
   "cell_type": "code",
   "execution_count": 2,
   "id": "6d4a88df",
   "metadata": {},
   "outputs": [],
   "source": [
    "class Solution(object):\n",
    "    def diStringMatch(self, S):\n",
    "        lo, hi = 0, len(S)\n",
    "        ans = []\n",
    "        for x in S:\n",
    "            if x == 'I':\n",
    "                ans.append(lo)\n",
    "                lo += 1\n",
    "            else:\n",
    "                ans.append(hi)\n",
    "                hi -= 1\n",
    "\n",
    "        return ans + [lo]"
   ]
  },
  {
   "cell_type": "markdown",
   "id": "0561e179",
   "metadata": {},
   "source": [
    "## <a id='12'> Rotate String <a/>"
   ]
  },
  {
   "cell_type": "raw",
   "id": "daa987a7",
   "metadata": {},
   "source": [
    "Given two strings s and goal, return true if and only if s can become goal after some number of shifts on s.\n",
    "\n",
    "A shift on s consists of moving the leftmost character of s to the rightmost position.\n",
    "\n",
    "For example, if s = \"abcde\", then it will be \"bcdea\" after one shift.\n",
    " \n",
    "\n",
    "Example 1:\n",
    "\n",
    "Input: s = \"abcde\", goal = \"cdeab\"\n",
    "Output: true\n",
    "Example 2:\n",
    "\n",
    "Input: s = \"abcde\", goal = \"abced\"\n",
    "Output: false\n",
    " \n",
    "\n",
    "Constraints:\n",
    "\n",
    "1 <= s.length, goal.length <= 100\n",
    "s and goal consist of lowercase English letters."
   ]
  },
  {
   "cell_type": "code",
   "execution_count": 3,
   "id": "46e21fb0",
   "metadata": {},
   "outputs": [],
   "source": [
    "class Solution:\n",
    "    def rotateString(self, s: str, goal: str) -> bool:\n",
    "        return len(s) == len(goal) and goal in  s+s\n",
    "    "
   ]
  },
  {
   "cell_type": "code",
   "execution_count": 8,
   "id": "be9b913a",
   "metadata": {},
   "outputs": [
    {
     "name": "stdout",
     "output_type": "stream",
     "text": [
      "abcdeabcde\n"
     ]
    },
    {
     "data": {
      "text/plain": [
       "True"
      ]
     },
     "execution_count": 8,
     "metadata": {},
     "output_type": "execute_result"
    }
   ],
   "source": [
    "s = \"abcde\"\n",
    "goal = \"cdeab\"\n",
    "print(s+s)\n",
    "goal in s+s"
   ]
  },
  {
   "cell_type": "markdown",
   "id": "dba4fc81",
   "metadata": {},
   "source": [
    "## <a id='13'> Fizz Buzz <a/>"
   ]
  },
  {
   "cell_type": "raw",
   "id": "fc8fb3e2",
   "metadata": {},
   "source": [
    "Given an integer n, return a string array answer (1-indexed) where:\n",
    "\n",
    "answer[i] == \"FizzBuzz\" if i is divisible by 3 and 5.\n",
    "answer[i] == \"Fizz\" if i is divisible by 3.\n",
    "answer[i] == \"Buzz\" if i is divisible by 5.\n",
    "answer[i] == i (as a string) if none of the above conditions are true.\n",
    " \n",
    "\n",
    "Example 1:\n",
    "\n",
    "Input: n = 3\n",
    "Output: [\"1\",\"2\",\"Fizz\"]\n",
    "Example 2:\n",
    "\n",
    "Input: n = 5\n",
    "Output: [\"1\",\"2\",\"Fizz\",\"4\",\"Buzz\"]\n",
    "Example 3:\n",
    "\n",
    "Input: n = 15\n",
    "Output: [\"1\",\"2\",\"Fizz\",\"4\",\"Buzz\",\"Fizz\",\"7\",\"8\",\"Fizz\",\"Buzz\",\"11\",\"Fizz\",\"13\",\"14\",\"FizzBuzz\"]"
   ]
  },
  {
   "cell_type": "code",
   "execution_count": 9,
   "id": "41ba5738",
   "metadata": {},
   "outputs": [
    {
     "data": {
      "text/plain": [
       "['1',\n",
       " '2',\n",
       " 'Fizz',\n",
       " '4',\n",
       " 'Buzz',\n",
       " 'Fizz',\n",
       " '7',\n",
       " '8',\n",
       " 'Fizz',\n",
       " 'Buzz',\n",
       " '11',\n",
       " 'Fizz',\n",
       " '13',\n",
       " '14',\n",
       " 'FizzBuzz']"
      ]
     },
     "execution_count": 9,
     "metadata": {},
     "output_type": "execute_result"
    }
   ],
   "source": [
    "# ans list\n",
    "ans = []\n",
    "\n",
    "for num in range(1,n+1):\n",
    "\n",
    "    divisible_by_3 = (num % 3 == 0)\n",
    "    divisible_by_5 = (num % 5 == 0)\n",
    "\n",
    "    if divisible_by_3 and divisible_by_5:\n",
    "        # Divides by both 3 and 5, add FizzBuzz\n",
    "        ans.append(\"FizzBuzz\")\n",
    "    elif divisible_by_3:\n",
    "        # Divides by 3, add Fizz\n",
    "        ans.append(\"Fizz\")\n",
    "    elif divisible_by_5:\n",
    "        # Divides by 5, add Buzz\n",
    "        ans.append(\"Buzz\")\n",
    "    else:\n",
    "        # Not divisible by 3 or 5, add the number\n",
    "        ans.append(str(num))\n",
    "\n",
    "ans"
   ]
  },
  {
   "cell_type": "code",
   "execution_count": null,
   "id": "25676774",
   "metadata": {},
   "outputs": [],
   "source": []
  },
  {
   "cell_type": "code",
   "execution_count": null,
   "id": "edd712aa",
   "metadata": {},
   "outputs": [],
   "source": []
  }
 ],
 "metadata": {
  "kernelspec": {
   "display_name": "Python 3 (ipykernel)",
   "language": "python",
   "name": "python3"
  },
  "language_info": {
   "codemirror_mode": {
    "name": "ipython",
    "version": 3
   },
   "file_extension": ".py",
   "mimetype": "text/x-python",
   "name": "python",
   "nbconvert_exporter": "python",
   "pygments_lexer": "ipython3",
   "version": "3.9.12"
  }
 },
 "nbformat": 4,
 "nbformat_minor": 5
}
