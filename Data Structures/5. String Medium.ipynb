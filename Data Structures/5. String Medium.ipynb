{
 "cells": [
  {
   "cell_type": "markdown",
   "id": "f7a188f4",
   "metadata": {},
   "source": [
    "## 1.Longest Substring Without Repeating Characters"
   ]
  },
  {
   "cell_type": "raw",
   "id": "4ed722fd",
   "metadata": {},
   "source": [
    "Given a string s, find the length of the longest \n",
    "substring\n",
    " without repeating characters.\n",
    "\n",
    " \n",
    "\n",
    "Example 1:\n",
    "\n",
    "Input: s = \"abcabcbb\"\n",
    "Output: 3\n",
    "Explanation: The answer is \"abc\", with the length of 3.\n",
    "Example 2:\n",
    "\n",
    "Input: s = \"bbbbb\"\n",
    "Output: 1\n",
    "Explanation: The answer is \"b\", with the length of 1.\n",
    "Example 3:\n",
    "\n",
    "Input: s = \"pwwkew\"\n",
    "Output: 3\n",
    "Explanation: The answer is \"wke\", with the length of 3.\n",
    "Notice that the answer must be a substring, \"pwke\" is a subsequence and not a substring.\n",
    " \n",
    "\n",
    "Constraints:\n",
    "\n",
    "0 <= s.length <= 5 * 104\n",
    "s consists of English letters, digits, symbols and spaces."
   ]
  },
  {
   "cell_type": "code",
   "execution_count": 38,
   "id": "34224559",
   "metadata": {},
   "outputs": [
    {
     "name": "stdout",
     "output_type": "stream",
     "text": [
      "3\n",
      "Time:  6.4539999948465265\n"
     ]
    }
   ],
   "source": [
    "import timeit\n",
    "\n",
    "start = timeit.default_timer()\n",
    "\n",
    "#Your statements here\n",
    "def lenlogsubstr(s):\n",
    "    mylen=0\n",
    "    mydict=dict()\n",
    "    l=0\n",
    "    r=0\n",
    "    while r < len(s):\n",
    "        for i,v in enumerate(s):\n",
    "            if v in mydict:\n",
    "                mydict.pop(v)\n",
    "                l=i\n",
    "            mydict[v]=i\n",
    "            mylen=max(mylen,r-l+1)\n",
    "            r+=1\n",
    "    return mylen\n",
    "\n",
    "s = \"abcabcbb\"\n",
    "print(lenlogsubstr(s))\n",
    "\n",
    "\n",
    "stop = timeit.default_timer()\n",
    "print('Time: ', (stop - start)*10000)  \n"
   ]
  },
  {
   "cell_type": "code",
   "execution_count": 39,
   "id": "faade9f2",
   "metadata": {},
   "outputs": [
    {
     "name": "stdout",
     "output_type": "stream",
     "text": [
      "3\n",
      "Time:  23.980999994819285\n"
     ]
    }
   ],
   "source": [
    "import timeit\n",
    "\n",
    "start = timeit.default_timer()\n",
    "\n",
    "#Your statements here\n",
    "def lengthOfLongestSubstring(s):\n",
    "    seen = {}\n",
    "    best = 0\n",
    "    front = -1\n",
    "    for i, c in enumerate(s):\n",
    "\n",
    "        if c in seen and front < seen[c]:\n",
    "            front = seen[c]\n",
    "\n",
    "        seen[c] = i\n",
    "\n",
    "        if (i - front) > best:\n",
    "            best = i - front\n",
    "\n",
    "    return best\n",
    "\n",
    "s = \"abcabcbb\"\n",
    "print(lengthOfLongestSubstring(s))\n",
    "\n",
    "\n",
    "stop = timeit.default_timer()\n",
    "print('Time: ', (stop - start)*10000)  "
   ]
  },
  {
   "cell_type": "markdown",
   "id": "e08f2b70",
   "metadata": {},
   "source": [
    "## Zigzag Conversion"
   ]
  },
  {
   "cell_type": "raw",
   "id": "912cff27",
   "metadata": {},
   "source": [
    "The string \"PAYPALISHIRING\" is written in a zigzag pattern on a given number of rows like this: (you may want to display this pattern in a fixed font for better legibility)\n",
    "\n",
    "P   A   H   N\n",
    "A P L S I I G\n",
    "Y   I   R\n",
    "\n",
    "And then read line by line: \"PAHNAPLSIIGYIR\"\n",
    "\n",
    "Write the code that will take a string and make this conversion given a number of rows:\n",
    "\n",
    "string convert(string s, int numRows);\n",
    " \n",
    "\n",
    "Example 1:\n",
    "\n",
    "Input: s = \"PAYPALISHIRING\", numRows = 3\n",
    "Output: \"PAHNAPLSIIGYIR\"\n",
    "Example 2:\n",
    "\n",
    "Input: s = \"PAYPALISHIRING\", numRows = 4\n",
    "Output: \"PINALSIGYAHRPI\"\n",
    "Explanation:\n",
    "P     I    N\n",
    "A   L S  I G\n",
    "Y A   H R\n",
    "P     I\n",
    "\n",
    "\n",
    "Example 3:\n",
    "\n",
    "Input: s = \"A\", numRows = 1\n",
    "Output: \"A\"\n",
    " \n",
    "\n",
    "Constraints:\n",
    "\n",
    "1 <= s.length <= 1000\n",
    "s consists of English letters (lower-case and upper-case), ',' and '.'.\n",
    "1 <= numRows <= 1000"
   ]
  },
  {
   "cell_type": "code",
   "execution_count": 19,
   "id": "11f55822",
   "metadata": {},
   "outputs": [
    {
     "name": "stdout",
     "output_type": "stream",
     "text": [
      "3 -->> P\n",
      "7 -->> S\n",
      "11 -->> I\n"
     ]
    },
    {
     "data": {
      "text/plain": [
       "'PAHNAPLSIIYIR'"
      ]
     },
     "execution_count": 19,
     "metadata": {},
     "output_type": "execute_result"
    }
   ],
   "source": [
    "def convert(s, numRows):\n",
    "    if numRows == 1: return s\n",
    "    res = \"\"\n",
    "    for r in range(numRows):\n",
    "        increment = 2* (numRows -1 )\n",
    "        for i in range(r,len(s), increment):\n",
    "            res += s[i]\n",
    "            if (r > 0 and r < numRows -1 and i + increment -2 *r < len(s)):\n",
    "                ob=i + increment -2 *r\n",
    "                print(i + increment -2 *r, \"-->>\",s[i + increment -2 *r])\n",
    "                res += s[i + increment -2 *r]\n",
    "                \n",
    "                \n",
    "    return res\n",
    "        \n",
    "s = \"PAYPALISHIRIN\"\n",
    "numRows = 3\n",
    "convert(s,numRows)"
   ]
  },
  {
   "cell_type": "markdown",
   "id": "7a0ae2e5",
   "metadata": {},
   "source": [
    "## Reverse Integer"
   ]
  },
  {
   "cell_type": "raw",
   "id": "eee582b1",
   "metadata": {},
   "source": [
    "Given a signed 32-bit integer x, return x with its digits reversed. If reversing x causes the value to go outside the signed 32-bit integer range [-231, 231 - 1], then return 0.\n",
    "\n",
    "Assume the environment does not allow you to store 64-bit integers (signed or unsigned).\n",
    "\n",
    " \n",
    "\n",
    "Example 1:\n",
    "\n",
    "Input: x = 123\n",
    "Output: 321\n",
    "Example 2:\n",
    "\n",
    "Input: x = -123\n",
    "Output: -321\n",
    "Example 3:\n",
    "\n",
    "Input: x = 120\n",
    "Output: 21\n",
    " \n",
    "\n",
    "Constraints:\n",
    "\n",
    "-231 <= x <= 231 - 1"
   ]
  },
  {
   "cell_type": "code",
   "execution_count": 50,
   "id": "93e74d6f",
   "metadata": {},
   "outputs": [
    {
     "data": {
      "text/plain": [
       "-4638474121"
      ]
     },
     "execution_count": 50,
     "metadata": {},
     "output_type": "execute_result"
    }
   ],
   "source": [
    "def reverse(x):\n",
    "    if x < pow(2,31) and x > pow(-2,31):\n",
    "        xst=str(x)\n",
    "        res=\"\"\n",
    "        if '-' in xst:\n",
    "            res += '-'\n",
    "            for i in xst[:0:-1]:\n",
    "                res += i\n",
    "        else:\n",
    "            for i in xst[::-1]:\n",
    "                res += i\n",
    "        return int(res)\n",
    "    else:\n",
    "        return 0\n",
    "    \n",
    "\n",
    "\n",
    "x = -1214748364   \n",
    "reverse(x)"
   ]
  },
  {
   "cell_type": "code",
   "execution_count": 46,
   "id": "0e93e1dc",
   "metadata": {},
   "outputs": [
    {
     "name": "stdout",
     "output_type": "stream",
     "text": [
      "2147483648\n",
      "-2147483648\n"
     ]
    }
   ],
   "source": [
    "print(pow(2,31))\n",
    "print(pow(-2,31))"
   ]
  },
  {
   "cell_type": "code",
   "execution_count": 51,
   "id": "d661b0be",
   "metadata": {},
   "outputs": [],
   "source": [
    "def reverse(self, x: int) -> int:\n",
    "    if x > 0:\n",
    "        ans = int(str(x)[::-1])\n",
    "    else:\n",
    "        ans = int(str(x * -1)[::-1]) * -1\n",
    "\n",
    "    mi = 2 ** 31 * (-1)\n",
    "    ma = 2 ** 31 - 1\n",
    "\n",
    "    if ans > ma or ans < mi:\n",
    "        return 0\n",
    "    return an"
   ]
  },
  {
   "cell_type": "code",
   "execution_count": null,
   "id": "b885d8c7",
   "metadata": {},
   "outputs": [],
   "source": []
  }
 ],
 "metadata": {
  "kernelspec": {
   "display_name": "Python 3 (ipykernel)",
   "language": "python",
   "name": "python3"
  },
  "language_info": {
   "codemirror_mode": {
    "name": "ipython",
    "version": 3
   },
   "file_extension": ".py",
   "mimetype": "text/x-python",
   "name": "python",
   "nbconvert_exporter": "python",
   "pygments_lexer": "ipython3",
   "version": "3.9.7"
  }
 },
 "nbformat": 4,
 "nbformat_minor": 5
}
