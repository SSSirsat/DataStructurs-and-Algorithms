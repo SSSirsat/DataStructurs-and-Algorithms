{
 "cells": [
  {
   "cell_type": "markdown",
   "id": "68a8881a",
   "metadata": {},
   "source": [
    "# Hash Table"
   ]
  },
  {
   "cell_type": "markdown",
   "id": "e24f92d9",
   "metadata": {},
   "source": [
    "### Table of Content\n",
    "\n",
    "1) <a href='#01'>Linked List Cycle</a>\n",
    "\n",
    "2) <a href='#02'>Intersection of Two Linked Lists</a>\n",
    "\n",
    "3) <a href='#03'>Minimum Index Sum of Two Lists</a>\n",
    "\n",
    "4) <a href='#04'>Two Sum Array</a>\n",
    "\n",
    "5) <a href='#05'>Remove Duplicates from Sorted Array</a>\n",
    "\n",
    "6) <a href='#06'>Remove Element</a>\n",
    "\n",
    "7) <a href='#07'>Search Insert Position</a>"
   ]
  },
  {
   "cell_type": "markdown",
   "id": "f22c0dd7",
   "metadata": {},
   "source": [
    "## <a id='01'>Linked List Cycle</a>"
   ]
  },
  {
   "cell_type": "markdown",
   "id": "eb5631d8",
   "metadata": {},
   "source": [
    "Given head, the head of a linked list, determine if the linked list has a cycle in it.\n",
    "\n",
    "There is a cycle in a linked list if there is some node in the list that can be reached again by continuously following the next pointer. Internally, pos is used to denote the index of the node that tail's next pointer is connected to. Note that pos is not passed as a parameter.\n",
    "\n",
    "Return true if there is a cycle in the linked list. Otherwise, return false.\n",
    "\n",
    " \n",
    "\n",
    "Example 1:\n",
    "\n",
    "\n",
    "Input: head = [3,2,0,-4], pos = 1\n",
    "Output: true\n",
    "Explanation: There is a cycle in the linked list, where the tail connects to the 1st node (0-indexed).\n",
    "Example 2:\n",
    "\n",
    "\n",
    "Input: head = [1,2], pos = 0\n",
    "Output: true\n",
    "Explanation: There is a cycle in the linked list, where the tail connects to the 0th node."
   ]
  },
  {
   "cell_type": "code",
   "execution_count": 5,
   "id": "0ffb311e",
   "metadata": {},
   "outputs": [
    {
     "ename": "AttributeError",
     "evalue": "'list' object has no attribute 'next'",
     "output_type": "error",
     "traceback": [
      "\u001b[1;31m---------------------------------------------------------------------------\u001b[0m",
      "\u001b[1;31mAttributeError\u001b[0m                            Traceback (most recent call last)",
      "Input \u001b[1;32mIn [5]\u001b[0m, in \u001b[0;36m<cell line: 21>\u001b[1;34m()\u001b[0m\n\u001b[0;32m     18\u001b[0m     \u001b[38;5;28;01mreturn\u001b[39;00m \u001b[38;5;28;01mFalse\u001b[39;00m\n\u001b[0;32m     20\u001b[0m head \u001b[38;5;241m=\u001b[39m [\u001b[38;5;241m3\u001b[39m,\u001b[38;5;241m2\u001b[39m,\u001b[38;5;241m0\u001b[39m,\u001b[38;5;241m-\u001b[39m\u001b[38;5;241m4\u001b[39m]\n\u001b[1;32m---> 21\u001b[0m \u001b[43mhascycle\u001b[49m\u001b[43m(\u001b[49m\u001b[43mhead\u001b[49m\u001b[43m)\u001b[49m\n",
      "Input \u001b[1;32mIn [2]\u001b[0m, in \u001b[0;36mhascycle\u001b[1;34m(head)\u001b[0m\n\u001b[0;32m      1\u001b[0m \u001b[38;5;28;01mdef\u001b[39;00m \u001b[38;5;21mhascycle\u001b[39m(head):\n\u001b[1;32m----> 2\u001b[0m     \u001b[38;5;28;01mif\u001b[39;00m (\u001b[38;5;129;01mnot\u001b[39;00m head \u001b[38;5;129;01mor\u001b[39;00m \u001b[38;5;129;01mnot\u001b[39;00m \u001b[43mhead\u001b[49m\u001b[38;5;241;43m.\u001b[39;49m\u001b[43mnext\u001b[49m):\n\u001b[0;32m      3\u001b[0m         \u001b[38;5;28;01mreturn\u001b[39;00m \u001b[38;5;28;01mFalse\u001b[39;00m\n\u001b[0;32m      5\u001b[0m     \u001b[38;5;66;03m#writing one fast and and one slow node\u001b[39;00m\n",
      "\u001b[1;31mAttributeError\u001b[0m: 'list' object has no attribute 'next'"
     ]
    }
   ],
   "source": [
    "def hasCycle(head):\n",
    "    \n",
    "    if(not head or not head.next):\n",
    "        return False\n",
    "\n",
    "#Initializing slow and fast pointers\n",
    "    slow = head\n",
    "    fast = head \n",
    "\n",
    "#Moving slow ptr at one step a time and fast ptr at two step at a time\n",
    "    while(fast.next and fast.next.next):\n",
    "        slow = slow.next\n",
    "        fast = fast.next.next\n",
    "\n",
    "#If they meet then cycle is present for sure\n",
    "        if(slow == fast):\n",
    "            return True\n",
    "    return False\n",
    "\n",
    "head = [3,2,0,-4]\n",
    "hascycle(head)"
   ]
  },
  {
   "cell_type": "markdown",
   "id": "6e11fdc6",
   "metadata": {},
   "source": [
    "## <a id='02'>Intersection of Two Linked Lists</a>"
   ]
  },
  {
   "cell_type": "raw",
   "id": "af0771e2",
   "metadata": {},
   "source": [
    "Given the heads of two singly linked-lists headA and headB, return the node at which the two lists intersect. If the two linked lists have no intersection at all, return null.\n",
    "\n",
    "For example, the following two linked lists begin to intersect at node c1:\n",
    "\n",
    "\n",
    "The test cases are generated such that there are no cycles anywhere in the entire linked structure.\n",
    "\n",
    "Note that the linked lists must retain their original structure after the function returns.\n",
    "\n",
    "Custom Judge:\n",
    "\n",
    "The inputs to the judge are given as follows (your program is not given these inputs):\n",
    "\n",
    "intersectVal - The value of the node where the intersection occurs. This is 0 if there is no intersected node.\n",
    "listA - The first linked list.\n",
    "listB - The second linked list.\n",
    "skipA - The number of nodes to skip ahead in listA (starting from the head) to get to the intersected node.\n",
    "skipB - The number of nodes to skip ahead in listB (starting from the head) to get to the intersected node.\n",
    "The judge will then create the linked structure based on these inputs and pass the two heads, headA and headB to your program. If you correctly return the intersected node, then your solution will be accepted.\n",
    "\n",
    " \n",
    "\n",
    "Example 1:\n",
    "\n",
    "\n",
    "Input: intersectVal = 8, listA = [4,1,8,4,5], listB = [5,6,1,8,4,5], skipA = 2, skipB = 3\n",
    "Output: Intersected at '8'\n",
    "Explanation: The intersected node's value is 8 (note that this must not be 0 if the two lists intersect).\n",
    "From the head of A, it reads as [4,1,8,4,5]. From the head of B, it reads as [5,6,1,8,4,5]. There are 2 nodes before the intersected node in A; There are 3 nodes before the intersected node in B.\n",
    "- Note that the intersected node's value is not 1 because the nodes with value 1 in A and B (2nd node in A and 3rd node in B) are different node references. In other words, they point to two different locations in memory, while the nodes with value 8 in A and B (3rd node in A and 4th node in B) point to the same location in memory.\n",
    "Example 2:\n",
    "\n",
    "\n",
    "Input: intersectVal = 2, listA = [1,9,1,2,4], listB = [3,2,4], skipA = 3, skipB = 1\n",
    "Output: Intersected at '2'\n",
    "Explanation: The intersected node's value is 2 (note that this must not be 0 if the two lists intersect).\n",
    "From the head of A, it reads as [1,9,1,2,4]. From the head of B, it reads as [3,2,4]. There are 3 nodes before the intersected node in A; There are 1 node before the intersected node in B.\n",
    "Example 3:\n",
    "\n",
    "\n",
    "Input: intersectVal = 0, listA = [2,6,4], listB = [1,5], skipA = 3, skipB = 2\n",
    "Output: No intersection\n",
    "Explanation: From the head of A, it reads as [2,6,4]. From the head of B, it reads as [1,5]. Since the two lists do not intersect, intersectVal must be 0, while skipA and skipB can be arbitrary values.\n",
    "Explanation: The two lists do not intersect, so return null.\n",
    " \n",
    "\n",
    "Constraints:\n",
    "\n",
    "The number of nodes of listA is in the m.\n",
    "The number of nodes of listB is in the n.\n",
    "1 <= m, n <= 3 * 104\n",
    "1 <= Node.val <= 105\n",
    "0 <= skipA < m\n",
    "0 <= skipB < n\n",
    "intersectVal is 0 if listA and listB do not intersect.\n",
    "intersectVal == listA[skipA] == listB[skipB] if listA and listB intersect."
   ]
  },
  {
   "cell_type": "code",
   "execution_count": 1,
   "id": "ae6cdcf3",
   "metadata": {},
   "outputs": [],
   "source": [
    "def checlist(headA,headB):\n",
    "    seta=set() #creating a list of unique elements\n",
    "    curr = headA #taking one pointer of first linked list\n",
    "    \n",
    "    while curr: #iterating through curr untill curr is none/end\n",
    "        seta.add(curr) #appending to seta set()\n",
    "        curr=curr.next #moving to first elements\n",
    "        \n",
    "    #now making second elements as current\n",
    "    curr = headB\n",
    "    while curr:\n",
    "        if curr in seta:\n",
    "            return curr\n",
    "        else:\n",
    "            curr=curr.next\n",
    "    return None\n",
    "\n",
    "        "
   ]
  },
  {
   "cell_type": "code",
   "execution_count": null,
   "id": "3feb016a",
   "metadata": {},
   "outputs": [],
   "source": [
    "class Solution:\n",
    "    def getIntersectionNode(self, headA: ListNode, headB: ListNode) -> Optional[ListNode]:\n",
    "        one = headA\n",
    "        two = headB\n",
    "\n",
    "        while one != two:\n",
    "            one = headB if one is None else one.next\n",
    "            two = headA if two is None else two.next\n",
    "        return one\n",
    "    "
   ]
  },
  {
   "cell_type": "markdown",
   "id": "c715a8c5",
   "metadata": {},
   "source": [
    "## <a id='03'>Minimum Index Sum of Two Lists</a>"
   ]
  },
  {
   "cell_type": "raw",
   "id": "57d91457",
   "metadata": {},
   "source": [
    "Given two arrays of strings list1 and list2, find the common strings with the least index sum.\n",
    "\n",
    "A common string is a string that appeared in both list1 and list2.\n",
    "\n",
    "A common string with the least index sum is a common string such that if it appeared at list1[i] and list2[j] then i + j should be the minimum value among all the other common strings.\n",
    "\n",
    "Return all the common strings with the least index sum. Return the answer in any order.\n",
    "\n",
    " \n",
    "\n",
    "Example 1:\n",
    "\n",
    "Input: list1 = [\"Shogun\",\"Tapioca Express\",\"Burger King\",\"KFC\"], list2 = [\"Piatti\",\"The Grill at Torrey Pines\",\"Hungry Hunter Steakhouse\",\"Shogun\"]\n",
    "Output: [\"Shogun\"]\n",
    "Explanation: The only common string is \"Shogun\".\n",
    "Example 2:\n",
    "\n",
    "Input: list1 = [\"Shogun\",\"Tapioca Express\",\"Burger King\",\"KFC\"], list2 = [\"KFC\",\"Shogun\",\"Burger King\"]\n",
    "Output: [\"Shogun\"]\n",
    "Explanation: The common string with the least index sum is \"Shogun\" with index sum = (0 + 1) = 1.\n",
    "Example 3:\n",
    "\n",
    "Input: list1 = [\"happy\",\"sad\",\"good\"], list2 = [\"sad\",\"happy\",\"good\"]\n",
    "Output: [\"sad\",\"happy\"]\n",
    "Explanation: There are three common strings:\n",
    "\"happy\" with index sum = (0 + 1) = 1.\n",
    "\"sad\" with index sum = (1 + 0) = 1.\n",
    "\"good\" with index sum = (2 + 2) = 4.\n",
    "The strings with the least index sum are \"sad\" and \"happy\".\n",
    " \n",
    "\n",
    "Constraints:\n",
    "\n",
    "1 <= list1.length, list2.length <= 1000\n",
    "1 <= list1[i].length, list2[i].length <= 30\n",
    "list1[i] and list2[i] consist of spaces ' ' and English letters.\n",
    "All the strings of list1 are unique.\n",
    "All the strings of list2 are unique."
   ]
  },
  {
   "cell_type": "code",
   "execution_count": 47,
   "id": "724e8da1",
   "metadata": {},
   "outputs": [
    {
     "name": "stdout",
     "output_type": "stream",
     "text": [
      "1\n"
     ]
    },
    {
     "data": {
      "text/plain": [
       "['happy', 'sad']"
      ]
     },
     "execution_count": 47,
     "metadata": {},
     "output_type": "execute_result"
    }
   ],
   "source": [
    "list1 = [\"happy\",\"sad\",\"good\"]\n",
    "list2 = [\"sad\",\"happy\",\"good\"]\n",
    "# list1 = [\"Shogun\",\"Tapioca Express\",\"Burger King\",\"KFC\"]\n",
    "# list2 = [\"KFC\",\"Shogun\",\"Burger King\"]\n",
    "def indexsum(list1,list2):\n",
    "    output=[]\n",
    "    dicti={}\n",
    "    for i in range(len(list1)):\n",
    "        for j in range(len(list2)):\n",
    "            if list1[i] == list2[j]:\n",
    "                dicti[list1[i]]=i+j\n",
    "                \n",
    "    min_val= min(dicti.values())\n",
    "    print(min_val) \n",
    "    \n",
    "    for k,v in dicti.items():\n",
    "        if v == min_val:\n",
    "            output.append(k)\n",
    "            \n",
    "    return output\n",
    "                \n",
    "#  min(dicti.keys())       \n",
    "indexsum(list1,list2)"
   ]
  },
  {
   "cell_type": "code",
   "execution_count": null,
   "id": "ce453871",
   "metadata": {},
   "outputs": [],
   "source": []
  }
 ],
 "metadata": {
  "kernelspec": {
   "display_name": "Python 3 (ipykernel)",
   "language": "python",
   "name": "python3"
  },
  "language_info": {
   "codemirror_mode": {
    "name": "ipython",
    "version": 3
   },
   "file_extension": ".py",
   "mimetype": "text/x-python",
   "name": "python",
   "nbconvert_exporter": "python",
   "pygments_lexer": "ipython3",
   "version": "3.9.7"
  }
 },
 "nbformat": 4,
 "nbformat_minor": 5
}
