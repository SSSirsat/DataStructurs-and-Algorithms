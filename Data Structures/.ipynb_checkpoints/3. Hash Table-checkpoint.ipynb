{
 "cells": [
  {
   "cell_type": "markdown",
   "id": "68a8881a",
   "metadata": {},
   "source": [
    "# Hash Table"
   ]
  },
  {
   "cell_type": "markdown",
   "id": "e24f92d9",
   "metadata": {},
   "source": [
    "### Table of Content\n",
    "\n",
    "1) <a href='#01'>Linked List Cycle</a>\n",
    "\n",
    "2) <a href='#02'>Intersection of Two Linked Lists</a>\n",
    "\n",
    "3) <a href='#03'>Minimum Index Sum of Two Lists</a>\n",
    "\n",
    "4) <a href='#04'>First Unique Character in a String</a>\n",
    "\n",
    "5) <a href='#05'>First Letter to Appear Twice</a>\n",
    "\n",
    "6) <a href='#06'>Keep Multiplying Found Values by Two</a>\n",
    "\n",
    "7) <a href='#07'>Happy Number</a>\n",
    "\n",
    "8) <a href='#08'>majority element</a>\n",
    "\n",
    "9) <a href='#09'>Word Pattern</a>\n",
    "\n",
    "10) <a href='#010'>Keyboard Row</a>\n",
    "\n",
    "11) <a href='#011'></a>"
   ]
  },
  {
   "cell_type": "markdown",
   "id": "f22c0dd7",
   "metadata": {},
   "source": [
    "## <a id='01'>Linked List Cycle</a>"
   ]
  },
  {
   "cell_type": "markdown",
   "id": "eb5631d8",
   "metadata": {},
   "source": [
    "Given head, the head of a linked list, determine if the linked list has a cycle in it.\n",
    "\n",
    "There is a cycle in a linked list if there is some node in the list that can be reached again by continuously following the next pointer. Internally, pos is used to denote the index of the node that tail's next pointer is connected to. Note that pos is not passed as a parameter.\n",
    "\n",
    "Return true if there is a cycle in the linked list. Otherwise, return false.\n",
    "\n",
    " \n",
    "\n",
    "Example 1:\n",
    "\n",
    "\n",
    "Input: head = [3,2,0,-4], pos = 1\n",
    "Output: true\n",
    "Explanation: There is a cycle in the linked list, where the tail connects to the 1st node (0-indexed).\n",
    "Example 2:\n",
    "\n",
    "\n",
    "Input: head = [1,2], pos = 0\n",
    "Output: true\n",
    "Explanation: There is a cycle in the linked list, where the tail connects to the 0th node."
   ]
  },
  {
   "cell_type": "code",
   "execution_count": 1,
   "id": "0ffb311e",
   "metadata": {},
   "outputs": [
    {
     "ename": "NameError",
     "evalue": "name 'hascycle' is not defined",
     "output_type": "error",
     "traceback": [
      "\u001b[1;31m---------------------------------------------------------------------------\u001b[0m",
      "\u001b[1;31mNameError\u001b[0m                                 Traceback (most recent call last)",
      "Input \u001b[1;32mIn [1]\u001b[0m, in \u001b[0;36m<cell line: 21>\u001b[1;34m()\u001b[0m\n\u001b[0;32m     18\u001b[0m     \u001b[38;5;28;01mreturn\u001b[39;00m \u001b[38;5;28;01mFalse\u001b[39;00m\n\u001b[0;32m     20\u001b[0m head \u001b[38;5;241m=\u001b[39m [\u001b[38;5;241m3\u001b[39m,\u001b[38;5;241m2\u001b[39m,\u001b[38;5;241m0\u001b[39m,\u001b[38;5;241m-\u001b[39m\u001b[38;5;241m4\u001b[39m]\n\u001b[1;32m---> 21\u001b[0m \u001b[43mhascycle\u001b[49m(head)\n",
      "\u001b[1;31mNameError\u001b[0m: name 'hascycle' is not defined"
     ]
    }
   ],
   "source": [
    "def hasCycle(head):\n",
    "    \n",
    "    if(not head or not head.next):\n",
    "        return False\n",
    "\n",
    "#Initializing slow and fast pointers\n",
    "    slow = head\n",
    "    fast = head \n",
    "\n",
    "#Moving slow ptr at one step a time and fast ptr at two step at a time\n",
    "    while(fast.next and fast.next.next):\n",
    "        slow = slow.next\n",
    "        fast = fast.next.next\n",
    "\n",
    "#If they meet then cycle is present for sure\n",
    "        if(slow == fast):\n",
    "            return True\n",
    "    return False\n",
    "\n",
    "head = [3,2,0,-4]\n",
    "hascycle(head)"
   ]
  },
  {
   "cell_type": "markdown",
   "id": "6e11fdc6",
   "metadata": {},
   "source": [
    "## <a id='02'>Intersection of Two Linked Lists</a>"
   ]
  },
  {
   "cell_type": "raw",
   "id": "af0771e2",
   "metadata": {},
   "source": [
    "Given the heads of two singly linked-lists headA and headB, return the node at which the two lists intersect. If the two linked lists have no intersection at all, return null.\n",
    "\n",
    "For example, the following two linked lists begin to intersect at node c1:\n",
    "\n",
    "\n",
    "The test cases are generated such that there are no cycles anywhere in the entire linked structure.\n",
    "\n",
    "Note that the linked lists must retain their original structure after the function returns.\n",
    "\n",
    "Custom Judge:\n",
    "\n",
    "The inputs to the judge are given as follows (your program is not given these inputs):\n",
    "\n",
    "intersectVal - The value of the node where the intersection occurs. This is 0 if there is no intersected node.\n",
    "listA - The first linked list.\n",
    "listB - The second linked list.\n",
    "skipA - The number of nodes to skip ahead in listA (starting from the head) to get to the intersected node.\n",
    "skipB - The number of nodes to skip ahead in listB (starting from the head) to get to the intersected node.\n",
    "The judge will then create the linked structure based on these inputs and pass the two heads, headA and headB to your program. If you correctly return the intersected node, then your solution will be accepted.\n",
    "\n",
    " \n",
    "\n",
    "Example 1:\n",
    "\n",
    "\n",
    "Input: intersectVal = 8, listA = [4,1,8,4,5], listB = [5,6,1,8,4,5], skipA = 2, skipB = 3\n",
    "Output: Intersected at '8'\n",
    "Explanation: The intersected node's value is 8 (note that this must not be 0 if the two lists intersect).\n",
    "From the head of A, it reads as [4,1,8,4,5]. From the head of B, it reads as [5,6,1,8,4,5]. There are 2 nodes before the intersected node in A; There are 3 nodes before the intersected node in B.\n",
    "- Note that the intersected node's value is not 1 because the nodes with value 1 in A and B (2nd node in A and 3rd node in B) are different node references. In other words, they point to two different locations in memory, while the nodes with value 8 in A and B (3rd node in A and 4th node in B) point to the same location in memory.\n",
    "Example 2:\n",
    "\n",
    "\n",
    "Input: intersectVal = 2, listA = [1,9,1,2,4], listB = [3,2,4], skipA = 3, skipB = 1\n",
    "Output: Intersected at '2'\n",
    "Explanation: The intersected node's value is 2 (note that this must not be 0 if the two lists intersect).\n",
    "From the head of A, it reads as [1,9,1,2,4]. From the head of B, it reads as [3,2,4]. There are 3 nodes before the intersected node in A; There are 1 node before the intersected node in B.\n",
    "Example 3:\n",
    "\n",
    "\n",
    "Input: intersectVal = 0, listA = [2,6,4], listB = [1,5], skipA = 3, skipB = 2\n",
    "Output: No intersection\n",
    "Explanation: From the head of A, it reads as [2,6,4]. From the head of B, it reads as [1,5]. Since the two lists do not intersect, intersectVal must be 0, while skipA and skipB can be arbitrary values.\n",
    "Explanation: The two lists do not intersect, so return null.\n",
    " \n",
    "\n",
    "Constraints:\n",
    "\n",
    "The number of nodes of listA is in the m.\n",
    "The number of nodes of listB is in the n.\n",
    "1 <= m, n <= 3 * 104\n",
    "1 <= Node.val <= 105\n",
    "0 <= skipA < m\n",
    "0 <= skipB < n\n",
    "intersectVal is 0 if listA and listB do not intersect.\n",
    "intersectVal == listA[skipA] == listB[skipB] if listA and listB intersect."
   ]
  },
  {
   "cell_type": "code",
   "execution_count": null,
   "id": "ae6cdcf3",
   "metadata": {},
   "outputs": [],
   "source": [
    "def checlist(headA,headB):\n",
    "    seta=set() #creating a list of unique elements\n",
    "    curr = headA #taking one pointer of first linked list\n",
    "    \n",
    "    while curr: #iterating through curr untill curr is none/end\n",
    "        seta.add(curr) #appending to seta set()\n",
    "        curr=curr.next #moving to first elements\n",
    "        \n",
    "    #now making second elements as current\n",
    "    curr = headB\n",
    "    while curr:\n",
    "        if curr in seta:\n",
    "            return curr\n",
    "        else:\n",
    "            curr=curr.next\n",
    "    return None\n",
    "\n",
    "        "
   ]
  },
  {
   "cell_type": "code",
   "execution_count": null,
   "id": "3feb016a",
   "metadata": {},
   "outputs": [],
   "source": [
    "class Solution:\n",
    "    def getIntersectionNode(self, headA: ListNode, headB: ListNode) -> Optional[ListNode]:\n",
    "        one = headA\n",
    "        two = headB\n",
    "\n",
    "        while one != two:\n",
    "            one = headB if one is None else one.next\n",
    "            two = headA if two is None else two.next\n",
    "        return one\n",
    "    "
   ]
  },
  {
   "cell_type": "markdown",
   "id": "c715a8c5",
   "metadata": {},
   "source": [
    "## <a id='03'>Minimum Index Sum of Two Lists</a>"
   ]
  },
  {
   "cell_type": "raw",
   "id": "57d91457",
   "metadata": {},
   "source": [
    "Given two arrays of strings list1 and list2, find the common strings with the least index sum.\n",
    "\n",
    "A common string is a string that appeared in both list1 and list2.\n",
    "\n",
    "A common string with the least index sum is a common string such that if it appeared at list1[i] and list2[j] then i + j should be the minimum value among all the other common strings.\n",
    "\n",
    "Return all the common strings with the least index sum. Return the answer in any order.\n",
    "\n",
    " \n",
    "\n",
    "Example 1:\n",
    "\n",
    "Input: list1 = [\"Shogun\",\"Tapioca Express\",\"Burger King\",\"KFC\"], list2 = [\"Piatti\",\"The Grill at Torrey Pines\",\"Hungry Hunter Steakhouse\",\"Shogun\"]\n",
    "Output: [\"Shogun\"]\n",
    "Explanation: The only common string is \"Shogun\".\n",
    "Example 2:\n",
    "\n",
    "Input: list1 = [\"Shogun\",\"Tapioca Express\",\"Burger King\",\"KFC\"], list2 = [\"KFC\",\"Shogun\",\"Burger King\"]\n",
    "Output: [\"Shogun\"]\n",
    "Explanation: The common string with the least index sum is \"Shogun\" with index sum = (0 + 1) = 1.\n",
    "Example 3:\n",
    "\n",
    "Input: list1 = [\"happy\",\"sad\",\"good\"], list2 = [\"sad\",\"happy\",\"good\"]\n",
    "Output: [\"sad\",\"happy\"]\n",
    "Explanation: There are three common strings:\n",
    "\"happy\" with index sum = (0 + 1) = 1.\n",
    "\"sad\" with index sum = (1 + 0) = 1.\n",
    "\"good\" with index sum = (2 + 2) = 4.\n",
    "The strings with the least index sum are \"sad\" and \"happy\".\n",
    " \n",
    "\n",
    "Constraints:\n",
    "\n",
    "1 <= list1.length, list2.length <= 1000\n",
    "1 <= list1[i].length, list2[i].length <= 30\n",
    "list1[i] and list2[i] consist of spaces ' ' and English letters.\n",
    "All the strings of list1 are unique.\n",
    "All the strings of list2 are unique."
   ]
  },
  {
   "cell_type": "code",
   "execution_count": null,
   "id": "724e8da1",
   "metadata": {},
   "outputs": [],
   "source": [
    "list1 = [\"happy\",\"sad\",\"good\"]\n",
    "list2 = [\"sad\",\"happy\",\"good\"]\n",
    "# list1 = [\"Shogun\",\"Tapioca Express\",\"Burger King\",\"KFC\"]\n",
    "# list2 = [\"KFC\",\"Shogun\",\"Burger King\"]\n",
    "def indexsum(list1,list2):\n",
    "    output=[]\n",
    "    dicti={}\n",
    "    for i in range(len(list1)):\n",
    "        for j in range(len(list2)):\n",
    "            if list1[i] == list2[j]:\n",
    "                dicti[list1[i]]=i+j\n",
    "                \n",
    "    min_val= min(dicti.values())\n",
    "    print(min_val) \n",
    "    \n",
    "    for k,v in dicti.items():\n",
    "        if v == min_val:\n",
    "            output.append(k)\n",
    "            \n",
    "    return output\n",
    "                \n",
    "#  min(dicti.keys())       \n",
    "indexsum(list1,list2)"
   ]
  },
  {
   "cell_type": "markdown",
   "id": "0205e024",
   "metadata": {},
   "source": [
    "## <a id='04'>First Unique Character in a String</a>"
   ]
  },
  {
   "cell_type": "raw",
   "id": "7cd0c310",
   "metadata": {},
   "source": [
    "Given a string s, find the first non-repeating character in it and return its index. If it does not exist, return -1.\n",
    "\n",
    " \n",
    "\n",
    "Example 1:\n",
    "\n",
    "Input: s = \"leetcode\"\n",
    "Output: 0\n",
    "Example 2:\n",
    "\n",
    "Input: s = \"loveleetcode\"\n",
    "Output: 2\n",
    "Example 3:\n",
    "\n",
    "Input: s = \"aabb\"\n",
    "Output: -1\n",
    " \n",
    "\n",
    "Constraints:\n",
    "\n",
    "1 <= s.length <= 105\n",
    "s consists of only lowercase English letters."
   ]
  },
  {
   "cell_type": "code",
   "execution_count": null,
   "id": "d83cecdb",
   "metadata": {},
   "outputs": [],
   "source": [
    "import collections\n",
    "s = \"loveleetcode\"\n",
    "def uniquecha(string):\n",
    "    count = collections.Counter(s)\n",
    "        \n",
    "        # find the index\n",
    "    for idx, ch in enumerate(s):\n",
    "        if count[ch] == 1:\n",
    "            return idx     \n",
    "    return -1\n",
    "\n",
    "uniquecha(s)"
   ]
  },
  {
   "cell_type": "code",
   "execution_count": null,
   "id": "95518bba",
   "metadata": {},
   "outputs": [],
   "source": [
    "count = collections.Counter(s)\n",
    "count"
   ]
  },
  {
   "cell_type": "markdown",
   "id": "98b3c885",
   "metadata": {},
   "source": [
    "## <a id='05'> First Letter to Appear Twice</a>"
   ]
  },
  {
   "cell_type": "raw",
   "id": "6d16d59e",
   "metadata": {},
   "source": [
    "Given a string s consisting of lowercase English letters, return the first letter to appear twice.\n",
    "\n",
    "Note:\n",
    "\n",
    "A letter a appears twice before another letter b if the second occurrence of a is before the second occurrence of b.\n",
    "s will contain at least one letter that appears twice.\n",
    " \n",
    "\n",
    "Example 1:\n",
    "\n",
    "Input: s = \"abccbaacz\"\n",
    "Output: \"c\"\n",
    "Explanation:\n",
    "The letter 'a' appears on the indexes 0, 5 and 6.\n",
    "The letter 'b' appears on the indexes 1 and 4.\n",
    "The letter 'c' appears on the indexes 2, 3 and 7.\n",
    "The letter 'z' appears on the index 8.\n",
    "The letter 'c' is the first letter to appear twice, because out of all the letters the index of its second occurrence is the smallest.\n",
    "Example 2:\n",
    "\n",
    "Input: s = \"abcdd\"\n",
    "Output: \"d\"\n",
    "Explanation:\n",
    "The only letter that appears twice is 'd' so we return 'd'.\n",
    " \n",
    "\n",
    "Constraints:\n",
    "\n",
    "2 <= s.length <= 100\n",
    "s consists of lowercase English letters.\n",
    "s has at least one repeated letter."
   ]
  },
  {
   "cell_type": "code",
   "execution_count": null,
   "id": "2b18a82e",
   "metadata": {},
   "outputs": [],
   "source": [
    "def repeatedCharacter(s):\n",
    "    \n",
    "    twice={}\n",
    "    for i in s:\n",
    "        if i in twice:\n",
    "            return i\n",
    "        else:\n",
    "            twice[i]=1"
   ]
  },
  {
   "cell_type": "code",
   "execution_count": null,
   "id": "23039233",
   "metadata": {},
   "outputs": [],
   "source": [
    "s = \"abccbaacz\"\n",
    "repeatedCharacter(s)"
   ]
  },
  {
   "cell_type": "markdown",
   "id": "df0ec09f",
   "metadata": {},
   "source": [
    "## <a id='06'>Keep Multiplying Found Values by Two</a>"
   ]
  },
  {
   "cell_type": "raw",
   "id": "999cb6cc",
   "metadata": {},
   "source": [
    "You are given an array of integers nums. You are also given an integer original which is the first number that needs to be searched for in nums.\n",
    "\n",
    "You then do the following steps:\n",
    "\n",
    "If original is found in nums, multiply it by two (i.e., set original = 2 * original).\n",
    "Otherwise, stop the process.\n",
    "Repeat this process with the new number as long as you keep finding the number.\n",
    "Return the final value of original.\n",
    "\n",
    " \n",
    "\n",
    "Example 1:\n",
    "\n",
    "Input: nums = [5,3,6,1,12], original = 3\n",
    "Output: 24\n",
    "Explanation: \n",
    "- 3 is found in nums. 3 is multiplied by 2 to obtain 6.\n",
    "- 6 is found in nums. 6 is multiplied by 2 to obtain 12.\n",
    "- 12 is found in nums. 12 is multiplied by 2 to obtain 24.\n",
    "- 24 is not found in nums. Thus, 24 is returned.\n",
    "Example 2:\n",
    "\n",
    "Input: nums = [2,7,9], original = 4\n",
    "Output: 4\n",
    "Explanation:\n",
    "- 4 is not found in nums. Thus, 4 is returned.\n",
    " \n",
    "\n",
    "Constraints:\n",
    "\n",
    "1 <= nums.length <= 1000\n",
    "1 <= nums[i], original <= 1000"
   ]
  },
  {
   "cell_type": "code",
   "execution_count": null,
   "id": "4e4849e5",
   "metadata": {},
   "outputs": [],
   "source": [
    "# def findFinalValue(self, nums: List[int], original: int) -> int:\n",
    "#     while original in nums:\n",
    "#         original=original*2\n",
    "#     return original\n",
    "\n",
    "# def findFinalValue(self, n: List[int], o: int) -> int:\n",
    "#         n = sorted(n)\n",
    "#         for i in range(len(n)) :\n",
    "#             if o == n[i]:\n",
    "#                 o *= 2\n",
    "#         return o\n",
    "        \n",
    "        \n",
    "def findFinalValue(nums,original):\n",
    "    for i in nums:\n",
    "        if original == i:\n",
    "            original*=2\n",
    "    return original"
   ]
  },
  {
   "cell_type": "code",
   "execution_count": null,
   "id": "9cf00bce",
   "metadata": {},
   "outputs": [],
   "source": [
    "nums = [5,3,6,1,12]\n",
    "original = 3\n",
    "\n",
    "# nums = [2,7,9]\n",
    "# original = 4\n",
    "\n",
    "findFinalValue(nums,original)"
   ]
  },
  {
   "cell_type": "markdown",
   "id": "20036292",
   "metadata": {},
   "source": [
    "## <a id='07'>Happy Number</a>"
   ]
  },
  {
   "cell_type": "raw",
   "id": "d09e1fc9",
   "metadata": {},
   "source": [
    "Write an algorithm to determine if a number n is happy.\n",
    "\n",
    "A happy number is a number defined by the following process:\n",
    "\n",
    "Starting with any positive integer, replace the number by the sum of the squares of its digits.\n",
    "Repeat the process until the number equals 1 (where it will stay), or it loops endlessly in a cycle which does not include 1.\n",
    "Those numbers for which this process ends in 1 are happy.\n",
    "Return true if n is a happy number, and false if not.\n",
    "\n",
    " \n",
    "Example 1:\n",
    "\n",
    "Input: n = 19\n",
    "Output: true\n",
    "Explanation:\n",
    "12 + 92 = 82\n",
    "82 + 22 = 68\n",
    "62 + 82 = 100\n",
    "12 + 02 + 02 = 1\n",
    "Example 2:\n",
    "\n",
    "Input: n = 2\n",
    "Output: false\n",
    " \n",
    "\n",
    "Constraints:\n",
    "\n",
    "1 <= n <= 231 - 1"
   ]
  },
  {
   "cell_type": "code",
   "execution_count": null,
   "id": "a684501d",
   "metadata": {},
   "outputs": [],
   "source": [
    "def isHappy(self, n: int) -> bool:\n",
    "    def get_next(n):\n",
    "        total_sum = 0\n",
    "        while n > 0:\n",
    "            n, digit = divmod(n, 10)\n",
    "            total_sum += digit ** 2\n",
    "        return total_sum\n",
    "\n",
    "    seen = set()\n",
    "    while n != 1 and n not in seen:\n",
    "        seen.add(n)\n",
    "        n = get_next(n)\n",
    "\n",
    "    return n == 1"
   ]
  },
  {
   "cell_type": "markdown",
   "id": "dfd65622",
   "metadata": {},
   "source": [
    "## <a id='08'>Majority Element</a>"
   ]
  },
  {
   "cell_type": "raw",
   "id": "3e7659ba",
   "metadata": {},
   "source": [
    "Given an array nums of size n, return the majority element.\n",
    "\n",
    "The majority element is the element that appears more than ⌊n / 2⌋ times. You may assume that the majority element always exists in the array.\n",
    "\n",
    " \n",
    "\n",
    "Example 1:\n",
    "\n",
    "Input: nums = [3,2,3]\n",
    "Output: 3\n",
    "Example 2:\n",
    "\n",
    "Input: nums = [2,2,1,1,1,2,2]\n",
    "Output: 2\n",
    " \n",
    "\n",
    "Constraints:\n",
    "\n",
    "n == nums.length\n",
    "1 <= n <= 5 * 104\n",
    "-109 <= nums[i] <= 109"
   ]
  },
  {
   "cell_type": "code",
   "execution_count": null,
   "id": "5d9de3b9",
   "metadata": {},
   "outputs": [],
   "source": [
    "def majorityElement(nums):\n",
    "    \n",
    "    my_dict={}\n",
    "    for i in nums:\n",
    "        if i not in my_dict:\n",
    "            my_dict[i]=1\n",
    "        else:\n",
    "            my_dict[i]+=1\n",
    "    print(my_dict)\n",
    "    for k,v in my_dict.items():\n",
    "#         print(k,v)\n",
    "#         print(type(k))\n",
    "        if v>len(nums)/2:\n",
    "            return k"
   ]
  },
  {
   "cell_type": "code",
   "execution_count": null,
   "id": "e90c978b",
   "metadata": {},
   "outputs": [],
   "source": [
    "nums = [3,2,3]\n",
    "majorityElement(nums)"
   ]
  },
  {
   "cell_type": "markdown",
   "id": "e6191133",
   "metadata": {},
   "source": [
    "## <a id='09'>Word Pattern</a>"
   ]
  },
  {
   "cell_type": "raw",
   "id": "e1f251c5",
   "metadata": {},
   "source": [
    "Given a pattern and a string s, find if s follows the same pattern.\n",
    "\n",
    "Here follow means a full match, such that there is a bijection between a letter in pattern and a non-empty word in s.\n",
    "\n",
    " \n",
    "\n",
    "Example 1:\n",
    "\n",
    "Input: pattern = \"abba\", s = \"dog cat cat dog\"\n",
    "Output: true\n",
    "Example 2:\n",
    "\n",
    "Input: pattern = \"abba\", s = \"dog cat cat fish\"\n",
    "Output: false\n",
    "Example 3:\n",
    "\n",
    "Input: pattern = \"aaaa\", s = \"dog cat cat dog\"\n",
    "Output: false\n",
    " \n",
    "\n",
    "Constraints:\n",
    "\n",
    "1 <= pattern.length <= 300\n",
    "pattern contains only lower-case English letters.\n",
    "1 <= s.length <= 3000\n",
    "s contains only lowercase English letters and spaces ' '.\n",
    "s does not contain any leading or trailing spaces.\n",
    "All the words in s are separated by a single space."
   ]
  },
  {
   "cell_type": "code",
   "execution_count": null,
   "id": "71f31dc4",
   "metadata": {},
   "outputs": [],
   "source": [
    "def wordPattern(pattern, s):\n",
    "    words=s.split()\n",
    "    my_dict={}\n",
    "    \n",
    "    if len(pattern) != len(words): \n",
    "        return False\n",
    "    if len(set(pattern)) != len(set(words)):\n",
    "        return False\n",
    "    \n",
    "    for i in range(len(words)):\n",
    "        if words[i] not in my_dict:\n",
    "            my_dict[words[i]]=pattern[i]\n",
    "        elif my_dict[words[i]]!=pattern[i]:\n",
    "            return False\n",
    "    return True\n",
    "\n",
    "                    \n",
    "        "
   ]
  },
  {
   "cell_type": "code",
   "execution_count": null,
   "id": "e0d6c89c",
   "metadata": {},
   "outputs": [],
   "source": [
    "pattern = \"abba\"\n",
    "s = \"dog cat cat dog\"\n",
    "# pattern = \"aaaa\"\n",
    "# s = \"dog cat cat dog\"\n",
    "print(set(pattern))\n",
    "print(set(s.split()))\n",
    "\n",
    "wordPattern(pattern,s)"
   ]
  },
  {
   "cell_type": "markdown",
   "id": "b854930a",
   "metadata": {},
   "source": [
    "## <a id='010'>Keyboard RowKeyboard Row</a>"
   ]
  },
  {
   "cell_type": "raw",
   "id": "a79e974d",
   "metadata": {},
   "source": [
    "Given an array of strings words, return the words that can be typed using letters of the alphabet on only one row of American keyboard like the image below.\n",
    "\n",
    "In the American keyboard:\n",
    "\n",
    "the first row consists of the characters \"qwertyuiop\",\n",
    "the second row consists of the characters \"asdfghjkl\", and\n",
    "the third row consists of the characters \"zxcvbnm\"."
   ]
  },
  {
   "cell_type": "raw",
   "id": "57f21316",
   "metadata": {},
   "source": [
    "Example 1:\n",
    "\n",
    "Input: words = [\"Hello\",\"Alaska\",\"Dad\",\"Peace\"]\n",
    "Output: [\"Alaska\",\"Dad\"]\n",
    "Example 2:\n",
    "\n",
    "Input: words = [\"omk\"]\n",
    "Output: []\n",
    "Example 3:\n",
    "\n",
    "Input: words = [\"adsdf\",\"sfd\"]\n",
    "Output: [\"adsdf\",\"sfd\"]\n",
    " \n",
    "\n",
    "Constraints:\n",
    "\n",
    "1 <= words.length <= 20\n",
    "1 <= words[i].length <= 100\n",
    "words[i] consists of English letters (both lowercase and uppercase). "
   ]
  },
  {
   "cell_type": "code",
   "execution_count": 24,
   "id": "feac4815",
   "metadata": {},
   "outputs": [
    {
     "data": {
      "text/plain": [
       "{2: 'HllAlaskaDada', 1: 'eoPee', 3: 'c'}"
      ]
     },
     "execution_count": 24,
     "metadata": {},
     "output_type": "execute_result"
    }
   ],
   "source": [
    "def findWorld(words):\n",
    "    f_row=\"qwertyuiop\"\n",
    "    s_row=\"asdfghjkl\"\n",
    "    t_row=\"zxcvbnm\"\n",
    "    output=[]\n",
    "    my_dict={2: '', 1: '', 3: ''}\n",
    "    my=set()\n",
    "    for i in words:\n",
    "        for j in i:\n",
    "            if j.lower() in f_row:\n",
    "                my_dict[1]+=str(j)\n",
    "            elif j.lower() in s_row:\n",
    "                my_dict[2]+=str(j)\n",
    "            elif j.lower() in t_row:\n",
    "                my_dict[3]+=str(j)\n",
    "                \n",
    "            \n",
    "    return my_dict\n",
    "                \n",
    "        \n",
    "        \n",
    "words = [\"Hello\",\"Alaska\",\"Dad\",\"Peace\"]        \n",
    "findWorld(words)"
   ]
  },
  {
   "cell_type": "code",
   "execution_count": 22,
   "id": "9273e2ea",
   "metadata": {},
   "outputs": [
    {
     "data": {
      "text/plain": [
       "{2: 'aj', 1: 'e', 3: 'c'}"
      ]
     },
     "execution_count": 22,
     "metadata": {},
     "output_type": "execute_result"
    }
   ],
   "source": [
    "s={2: 'a', 1: 'e', 3: 'c'}\n",
    "type(s[2])\n",
    "s[2]+='j'\n",
    "s"
   ]
  },
  {
   "cell_type": "markdown",
   "id": "5237f872",
   "metadata": {},
   "source": [
    "## <a id='011'>Keyboard RowKeyboard Row</a>"
   ]
  },
  {
   "cell_type": "code",
   "execution_count": null,
   "id": "7df40e9a",
   "metadata": {},
   "outputs": [],
   "source": []
  }
 ],
 "metadata": {
  "kernelspec": {
   "display_name": "Python 3 (ipykernel)",
   "language": "python",
   "name": "python3"
  },
  "language_info": {
   "codemirror_mode": {
    "name": "ipython",
    "version": 3
   },
   "file_extension": ".py",
   "mimetype": "text/x-python",
   "name": "python",
   "nbconvert_exporter": "python",
   "pygments_lexer": "ipython3",
   "version": "3.9.7"
  }
 },
 "nbformat": 4,
 "nbformat_minor": 5
}
