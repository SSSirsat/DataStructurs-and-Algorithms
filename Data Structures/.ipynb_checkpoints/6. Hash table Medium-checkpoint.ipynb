{
 "cells": [
  {
   "cell_type": "code",
   "execution_count": null,
   "id": "d3d1a42b",
   "metadata": {},
   "outputs": [],
   "source": []
  },
  {
   "cell_type": "code",
   "execution_count": null,
   "id": "20beca1a",
   "metadata": {},
   "outputs": [],
   "source": [
    "Integer to Roman"
   ]
  },
  {
   "cell_type": "raw",
   "id": "8c648ac3",
   "metadata": {},
   "source": [
    "Roman numerals are represented by seven different symbols: I, V, X, L, C, D and M.\n",
    "\n",
    "Symbol       Value\n",
    "I             1\n",
    "V             5\n",
    "X             10\n",
    "L             50\n",
    "C             100\n",
    "D             500\n",
    "M             1000\n",
    "For example, 2 is written as II in Roman numeral, just two one's added together. 12 is written as XII, which is simply X + II. The number 27 is written as XXVII, which is XX + V + II.\n",
    "\n",
    "Roman numerals are usually written largest to smallest from left to right. However, the numeral for four is not IIII. Instead, the number four is written as IV. Because the one is before the five we subtract it making four. The same principle applies to the number nine, which is written as IX. There are six instances where subtraction is used:\n",
    "\n",
    "I can be placed before V (5) and X (10) to make 4 and 9. \n",
    "X can be placed before L (50) and C (100) to make 40 and 90. \n",
    "C can be placed before D (500) and M (1000) to make 400 and 900.\n",
    "Given an integer, convert it to a roman numeral.\n",
    "\n",
    " \n",
    "\n",
    "Example 1:\n",
    "\n",
    "Input: num = 3\n",
    "Output: \"III\"\n",
    "Explanation: 3 is represented as 3 ones.\n",
    "Example 2:\n",
    "\n",
    "Input: num = 58\n",
    "Output: \"LVIII\"\n",
    "Explanation: L = 50, V = 5, III = 3.\n",
    "Example 3:\n",
    "\n",
    "Input: num = 1994\n",
    "Output: \"MCMXCIV\"\n",
    "Explanation: M = 1000, CM = 900, XC = 90 and IV = 4.\n",
    " \n",
    "\n",
    "Constraints:\n",
    "\n",
    "1 <= num <= 3999"
   ]
  },
  {
   "cell_type": "code",
   "execution_count": 1,
   "id": "312d7d22",
   "metadata": {},
   "outputs": [],
   "source": [
    "def intToRoman(num):\n",
    "    # Creating Dictionary for Lookup\n",
    "    num_map = {\n",
    "        1: \"I\",\n",
    "        5: \"V\",    4: \"IV\",\n",
    "        10: \"X\",   9: \"IX\",\n",
    "        50: \"L\",   40: \"XL\",\n",
    "        100: \"C\",  90: \"XC\",\n",
    "        500: \"D\",  400: \"CD\",\n",
    "        1000: \"M\", 900: \"CM\",\n",
    "    }\n",
    "\n",
    "    # Result Variable\n",
    "    r = ''\n",
    "\n",
    "\n",
    "    for n in [1000, 900, 500, 400, 100, 90, 50, 40, 10, 9, 5, 4, 1]:\n",
    "        # If n in list then add the roman value to result variable\n",
    "        while n <= num:\n",
    "            r += num_map[n]\n",
    "            num-=n\n",
    "    return r"
   ]
  },
  {
   "cell_type": "markdown",
   "id": "3975d9ef",
   "metadata": {},
   "source": [
    "# Letter Combinations of a Phone Number"
   ]
  },
  {
   "cell_type": "raw",
   "id": "0cea89dc",
   "metadata": {},
   "source": [
    "Given a string containing digits from 2-9 inclusive, return all possible letter combinations that the number could represent. Return the answer in any order.\n",
    "\n",
    "A mapping of digits to letters (just like on the telephone buttons) is given below. Note that 1 does not map to any letters.\n",
    "\n",
    "\n",
    " \n",
    "\n",
    "Example 1:\n",
    "\n",
    "Input: digits = \"23\"\n",
    "Output: [\"ad\",\"ae\",\"af\",\"bd\",\"be\",\"bf\",\"cd\",\"ce\",\"cf\"]\n",
    "Example 2:\n",
    "\n",
    "Input: digits = \"\"\n",
    "Output: []\n",
    "Example 3:\n",
    "\n",
    "Input: digits = \"2\"\n",
    "Output: [\"a\",\"b\",\"c\"]\n",
    " \n",
    "\n",
    "Constraints:\n",
    "\n",
    "0 <= digits.length <= 4\n",
    "digits[i] is a digit in the range ['2', '9']."
   ]
  },
  {
   "cell_type": "code",
   "execution_count": null,
   "id": "40717c49",
   "metadata": {},
   "outputs": [],
   "source": []
  }
 ],
 "metadata": {
  "kernelspec": {
   "display_name": "Python 3 (ipykernel)",
   "language": "python",
   "name": "python3"
  },
  "language_info": {
   "codemirror_mode": {
    "name": "ipython",
    "version": 3
   },
   "file_extension": ".py",
   "mimetype": "text/x-python",
   "name": "python",
   "nbconvert_exporter": "python",
   "pygments_lexer": "ipython3",
   "version": "3.9.7"
  }
 },
 "nbformat": 4,
 "nbformat_minor": 5
}
