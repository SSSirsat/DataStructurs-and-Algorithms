{
 "cells": [
  {
   "cell_type": "markdown",
   "id": "8cb272ce",
   "metadata": {},
   "source": [
    "1) <a href='#01'>Container With Most Water</a>\n",
    "    \n",
    "2) <a href='#02'>3 Sum</a>\n",
    "\n",
    "3) <a href='#03'>Next Permutation</a>\n",
    "\n",
    "4) <a href='#04'>3 Sum</a>\n",
    "\n",
    "5) <a href='#05'>3 Sum</a>\n",
    "\n",
    "6) <a href='#06'>Search in Rotated Sorted Array</a>\n",
    "\n",
    "7) <a href='#07'>Search in Rotated Sorted Array</a>"
   ]
  },
  {
   "cell_type": "markdown",
   "id": "5abfbda5",
   "metadata": {},
   "source": [
    "## <a id='01'>Container With Most Water</a>"
   ]
  },
  {
   "cell_type": "raw",
   "id": "3176a6b7",
   "metadata": {},
   "source": [
    "You are given an integer array height of length n. There are n vertical lines drawn such that the two endpoints of the ith line are (i, 0) and (i, height[i]).\n",
    "\n",
    "Find two lines that together with the x-axis form a container, such that the container contains the most water.\n",
    "\n",
    "Return the maximum amount of water a container can store.\n",
    "\n",
    "Notice that you may not slant the container.\n",
    "\n",
    " \n",
    "\n",
    "Example 1:\n",
    "\n",
    "\n",
    "Input: height = [1,8,6,2,5,4,8,3,7]\n",
    "Output: 49\n",
    "Explanation: The above vertical lines are represented by array [1,8,6,2,5,4,8,3,7]. In this case, the max area of water (blue section) the container can contain is 49.\n",
    "Example 2:\n",
    "\n",
    "Input: height = [1,1]\n",
    "Output: 1\n",
    " \n",
    "\n",
    "Constraints:\n",
    "\n",
    "n == height.length\n",
    "2 <= n <= 105\n",
    "0 <= height[i] <= 104"
   ]
  },
  {
   "cell_type": "code",
   "execution_count": 26,
   "id": "b0541b65",
   "metadata": {},
   "outputs": [
    {
     "data": {
      "text/plain": [
       "49"
      ]
     },
     "execution_count": 26,
     "metadata": {},
     "output_type": "execute_result"
    }
   ],
   "source": [
    "def maxarea(height):\n",
    "    maxim = 0\n",
    "        \n",
    "    l = 0\n",
    "    r = len(height)-1\n",
    "\n",
    "    while(l<r):\n",
    "        maxim = max(maxim,min(height[l],height[r])*(r-l))\n",
    "\n",
    "        if height[l]<height[r]:\n",
    "            l+=1\n",
    "        else:\n",
    "            r-=1\n",
    "\n",
    "    return maxim\n",
    "        \n",
    "            \n",
    "height = [1,8,6,2,5,4,8,3,7]\n",
    "maxarea(height)"
   ]
  },
  {
   "cell_type": "markdown",
   "id": "413658a4",
   "metadata": {},
   "source": [
    "## <a id=\"02\">2) 3Sum<a/>"
   ]
  },
  {
   "cell_type": "raw",
   "id": "aae1a696",
   "metadata": {},
   "source": [
    "SGiven an integer array nums, return all the triplets [nums[i], nums[j], nums[k]] such that i != j, i != k, and j != k, and nums[i] + nums[j] + nums[k] == 0.\n",
    "\n",
    "Notice that the solution set must not contain duplicate triplets.\n",
    "\n",
    " \n",
    "\n",
    "Example 1:\n",
    "\n",
    "Input: nums = [-1,0,1,2,-1,-4]\n",
    "Output: [[-1,-1,2],[-1,0,1]]\n",
    "Explanation: \n",
    "nums[0] + nums[1] + nums[2] = (-1) + 0 + 1 = 0.\n",
    "nums[1] + nums[2] + nums[4] = 0 + 1 + (-1) = 0.\n",
    "nums[0] + nums[3] + nums[4] = (-1) + 2 + (-1) = 0.\n",
    "The distinct triplets are [-1,0,1] and [-1,-1,2].\n",
    "Notice that the order of the output and the order of the triplets does not matter.\n",
    "Example 2:\n",
    "\n",
    "Input: nums = [0,1,1]\n",
    "Output: []\n",
    "Explanation: The only possible triplet does not sum up to 0.\n",
    "Example 3:\n",
    "\n",
    "Input: nums = [0,0,0]\n",
    "Output: [[0,0,0]]\n",
    "Explanation: The only possible triplet sums up to 0.\n",
    " \n",
    "\n",
    "Constraints:\n",
    "\n",
    "3 <= nums.length <= 3000\n",
    "-105 <= nums[i] <= 105"
   ]
  },
  {
   "cell_type": "code",
   "execution_count": 1,
   "id": "1d07cd25",
   "metadata": {},
   "outputs": [
    {
     "ename": "NameError",
     "evalue": "name 'List' is not defined",
     "output_type": "error",
     "traceback": [
      "\u001b[1;31m---------------------------------------------------------------------------\u001b[0m",
      "\u001b[1;31mNameError\u001b[0m                                 Traceback (most recent call last)",
      "Input \u001b[1;32mIn [1]\u001b[0m, in \u001b[0;36m<cell line: 1>\u001b[1;34m()\u001b[0m\n\u001b[1;32m----> 1\u001b[0m \u001b[38;5;28;01mdef\u001b[39;00m \u001b[38;5;21mthreeSum\u001b[39m(\u001b[38;5;28mself\u001b[39m, nums: \u001b[43mList\u001b[49m[\u001b[38;5;28mint\u001b[39m]) \u001b[38;5;241m-\u001b[39m\u001b[38;5;241m>\u001b[39m List[List[\u001b[38;5;28mint\u001b[39m]]:\n\u001b[0;32m      2\u001b[0m         n,ans \u001b[38;5;241m=\u001b[39m \u001b[38;5;28mlen\u001b[39m(nums),\u001b[38;5;28mset\u001b[39m()\n\u001b[0;32m      3\u001b[0m         nums\u001b[38;5;241m.\u001b[39msort()\n",
      "\u001b[1;31mNameError\u001b[0m: name 'List' is not defined"
     ]
    }
   ],
   "source": [
    "def threeSum(self, nums: List[int]) -> List[List[int]]:\n",
    "        n,ans = len(nums),set()\n",
    "        nums.sort()\n",
    "        for i in range(n):\n",
    "            j,k = i+1,n-1\n",
    "            while j<=k:\n",
    "                s = nums[i] + nums[j] + nums[k]\n",
    "                if i != j and i != k and j != k and  s== 0:\n",
    "                    ans.add((nums[i],nums[j],nums[k]))\n",
    "                    j+=1\n",
    "                    k-=1\n",
    "                elif s>0:\n",
    "                    k-=1\n",
    "                else:\n",
    "                    j+=1\n",
    "        return ans\n"
   ]
  },
  {
   "cell_type": "markdown",
   "id": "0827dac1",
   "metadata": {},
   "source": [
    "## <a id=\"02\">3) 4Sum<a/>"
   ]
  },
  {
   "cell_type": "raw",
   "id": "f79e2c96",
   "metadata": {},
   "source": [
    "Given an array nums of n integers, return an array of all the unique quadruplets [nums[a], nums[b], nums[c], nums[d]] such that:\n",
    "\n",
    "0 <= a, b, c, d < n\n",
    "a, b, c, and d are distinct.\n",
    "nums[a] + nums[b] + nums[c] + nums[d] == target\n",
    "You may return the answer in any order.\n",
    "\n",
    " \n",
    "\n",
    "Example 1:\n",
    "\n",
    "Input: nums = [1,0,-1,0,-2,2], target = 0\n",
    "Output: [[-2,-1,1,2],[-2,0,0,2],[-1,0,0,1]]\n",
    "Example 2:\n",
    "\n",
    "Input: nums = [2,2,2,2,2], target = 8\n",
    "Output: [[2,2,2,2]]\n",
    " \n",
    "\n",
    "Constraints:\n",
    "\n",
    "1 <= nums.length <= 200\n",
    "-109 <= nums[i] <= 109\n",
    "-109 <= target <= 109"
   ]
  },
  {
   "cell_type": "markdown",
   "id": "14624f5a",
   "metadata": {},
   "source": [
    "## <a id=\"05\">5)Next Permutation<a/>"
   ]
  },
  {
   "cell_type": "raw",
   "id": "34335716",
   "metadata": {},
   "source": [
    "A permutation of an array of integers is an arrangement of its members into a sequence or linear order.\n",
    "\n",
    "For example, for arr = [1,2,3], the following are all the permutations of arr: [1,2,3], [1,3,2], [2, 1, 3], [2, 3, 1], [3,1,2], [3,2,1].\n",
    "The next permutation of an array of integers is the next lexicographically greater permutation of its integer. More formally, if all the permutations of the array are sorted in one container according to their lexicographical order, then the next permutation of that array is the permutation that follows it in the sorted container. If such arrangement is not possible, the array must be rearranged as the lowest possible order (i.e., sorted in ascending order).\n",
    "\n",
    "For example, the next permutation of arr = [1,2,3] is [1,3,2].\n",
    "Similarly, the next permutation of arr = [2,3,1] is [3,1,2].\n",
    "While the next permutation of arr = [3,2,1] is [1,2,3] because [3,2,1] does not have a lexicographical larger rearrangement.\n",
    "Given an array of integers nums, find the next permutation of nums.\n",
    "\n",
    "The replacement must be in place and use only constant extra memory.\n",
    "\n",
    " \n",
    "\n",
    "Example 1:\n",
    "\n",
    "Input: nums = [1,2,3]\n",
    "Output: [1,3,2]\n",
    "Example 2:\n",
    "\n",
    "Input: nums = [3,2,1]\n",
    "Output: [1,2,3]\n",
    "Example 3:\n",
    "\n",
    "Input: nums = [1,1,5]\n",
    "Output: [1,5,1]\n",
    " \n",
    "\n",
    "Constraints:\n",
    "\n",
    "1 <= nums.length <= 100\n",
    "0 <= nums[i] <= 100"
   ]
  },
  {
   "cell_type": "code",
   "execution_count": 5,
   "id": "e7dc15ea",
   "metadata": {},
   "outputs": [
    {
     "data": {
      "text/plain": [
       "[[1, 2, 3], [2, 1, 3], [3, 1, 2], [1, 3, 2], [2, 3, 1], [3, 2, 1]]"
      ]
     },
     "execution_count": 5,
     "metadata": {},
     "output_type": "execute_result"
    }
   ],
   "source": [
    "#Every possible permutatio of an given array.\n",
    "def permute(nums):\n",
    "    result = []\n",
    "    if (len(nums)== 1 ):\n",
    "        return [nums[:]]\n",
    "    \n",
    "    for i in range(len(nums)):\n",
    "        n = nums.pop(0)\n",
    "        perms = permute(nums)\n",
    "        \n",
    "        for perm in perms:\n",
    "            perm.append(n)\n",
    "        result.extend(perms)\n",
    "        nums.append(n)\n",
    "        \n",
    "    return result\n",
    "\n",
    "\n",
    "def backtrack(d,visited,ans,nums):\n",
    "    \n",
    "    if len(d)==len(nums):\n",
    "        ans.append(d.copy())\n",
    "        return\n",
    "\n",
    "    for i in range(len(nums)):\n",
    "        if not visited[i]:\n",
    "            d.append(nums[i])\n",
    "            visited[i] = True\n",
    "            backtrack(d,visited,ans,nums)\n",
    "            d.pop()\n",
    "            visited[i] = False\n",
    "\n",
    "    visited = [0]*len(nums)\n",
    "    d,ans = [],[]\n",
    "    backtrack(d,visited,ans,nums)\n",
    "    return ans\n",
    "    \n",
    "    \n",
    "nums = [3,2,1]\n",
    "permute(nums)"
   ]
  },
  {
   "cell_type": "code",
   "execution_count": 4,
   "id": "99f00b97",
   "metadata": {},
   "outputs": [
    {
     "data": {
      "text/plain": [
       "[3, 2, 1]"
      ]
     },
     "execution_count": 4,
     "metadata": {},
     "output_type": "execute_result"
    }
   ],
   "source": [
    "def nextpermute(nums):\n",
    "    result=[]\n",
    "    flag=0\n",
    "    for i in range(len(nums)-1,-1,-1):\n",
    "        if nums[i]<nums[i-1]:\n",
    "            flag=1\n",
    "            for j in range(len(nums)-1,i-1,-1):\n",
    "                if nums[i] < nums[j]:\n",
    "                    nums[i],nums[j]==nums[j],nums[i]\n",
    "                    nums[i:]= nums[i:][::-1]\n",
    "                    result.append(nums)\n",
    "                    break\n",
    "            break\n",
    "    if not flag: \n",
    "        return nums.reverse()\n",
    "    else:\n",
    "        return nums\n",
    "\n",
    "\n",
    "nums=[3,2,1]\n",
    "nextpermute(nums)"
   ]
  },
  {
   "cell_type": "code",
   "execution_count": 28,
   "id": "11ef94d0",
   "metadata": {},
   "outputs": [],
   "source": [
    "def nextPermutation(nums):\n",
    "        Breakflag = 0\n",
    "        for i in range(len(nums)-1,0,-1):\n",
    "            if nums[i-1] < nums[i]:\n",
    "                index = i-1\n",
    "                Breakflag = 1\n",
    "                for j in range(len(nums)-1,index,-1):\n",
    "                    if nums[j] > nums[index]:\n",
    "                        nums[j], nums[index] =  nums[index], nums[j]\n",
    "                        nums[index+1:] = nums[index+1:][::-1]\n",
    "                        break\n",
    "                break\n",
    "        if not Breakflag: \n",
    "            return nums.reverse()\n",
    "\n",
    "nums=[3,2,1]\n",
    "nextPermutation(nums)"
   ]
  },
  {
   "cell_type": "code",
   "execution_count": 46,
   "id": "8502dcc4",
   "metadata": {},
   "outputs": [
    {
     "data": {
      "text/plain": [
       "[5, 8, 6, 5, 8, 6, 35]"
      ]
     },
     "execution_count": 46,
     "metadata": {},
     "output_type": "execute_result"
    }
   ],
   "source": [
    "nums=[35,6,8,5,6,8,5]\n",
    "# nums[::-1]\n",
    "nums.reverse()\n",
    "nums"
   ]
  },
  {
   "cell_type": "markdown",
   "id": "570d4388",
   "metadata": {},
   "source": [
    "## <a id=\"06\">6)Search in Rotated Sorted Array<a/>"
   ]
  },
  {
   "cell_type": "raw",
   "id": "bd7e8848",
   "metadata": {},
   "source": [
    "There is an integer array nums sorted in ascending order (with distinct values).\n",
    "\n",
    "Prior to being passed to your function, nums is possibly rotated at an unknown pivot index k (1 <= k < nums.length) such that the resulting array is [nums[k], nums[k+1], ..., nums[n-1], nums[0], nums[1], ..., nums[k-1]] (0-indexed). For example, [0,1,2,4,5,6,7] might be rotated at pivot index 3 and become [4,5,6,7,0,1,2].\n",
    "\n",
    "Given the array nums after the possible rotation and an integer target, return the index of target if it is in nums, or -1 if it is not in nums.\n",
    "\n",
    "You must write an algorithm with O(log n) runtime complexity.\n",
    "\n",
    " \n",
    "\n",
    "Example 1:\n",
    "\n",
    "Input: nums = [4,5,6,7,0,1,2], target = 0\n",
    "Output: 4\n",
    "Example 2:\n",
    "\n",
    "Input: nums = [4,5,6,7,0,1,2], target = 3\n",
    "Output: -1\n",
    "Example 3:\n",
    "\n",
    "Input: nums = [1], target = 0\n",
    "Output: -1\n",
    " \n",
    "\n",
    "Constraints:\n",
    "\n",
    "1 <= nums.length <= 5000\n",
    "-104 <= nums[i] <= 104\n",
    "All values of nums are unique.\n",
    "nums is an ascending array that is possibly rotated.\n",
    "-104 <= target <= 104"
   ]
  },
  {
   "cell_type": "code",
   "execution_count": 12,
   "id": "6e0ec24c",
   "metadata": {},
   "outputs": [
    {
     "data": {
      "text/plain": [
       "5"
      ]
     },
     "execution_count": 12,
     "metadata": {},
     "output_type": "execute_result"
    }
   ],
   "source": [
    "def search(nums, target):\n",
    "        l = 0\n",
    "        r = len(nums)-1\n",
    "        \n",
    "        while l < r:\n",
    "            mid = (l+r) // 2  # finding  the middle element# Checking if the middle element is the target\n",
    "            if nums[mid] == target:\n",
    "                return mid\n",
    "            # checking if the left of middle element is the sorted sub-array\n",
    "            if nums[mid] >= nums[l]:\n",
    "                if nums[l] <= target <= nums[mid]:\n",
    "                    r = mid\n",
    "                else:\n",
    "                    l = mid+1\n",
    "            # else the right part of middle element will be the sorted subarray\n",
    "            else:\n",
    "                # Checking if target belongs to the sorted subarray\n",
    "                if nums[mid] <= target <= nums[r]:\n",
    "                    l = mid\n",
    "                else:\n",
    "                    # else we will go to left part of array leaving middle too as arr[mid] != target\n",
    "                    r = mid-1\n",
    "        # Basic check to see if the left is the target element\n",
    "        return l if nums[l] == target else -1\n",
    "                \n",
    "\n",
    "search(nums = [4,5,6,7,0,1,2], target = 1)"
   ]
  },
  {
   "cell_type": "markdown",
   "id": "f245f597",
   "metadata": {},
   "source": [
    "## <a id=\"07\">7)Find First and Last Position of Element in Sorted Array<a/>"
   ]
  },
  {
   "cell_type": "raw",
   "id": "c2e40738",
   "metadata": {},
   "source": [
    "Given an array of integers nums sorted in non-decreasing order, find the starting and ending position of a given target value.\n",
    "\n",
    "If target is not found in the array, return [-1, -1].\n",
    "\n",
    "You must write an algorithm with O(log n) runtime complexity.\n",
    "\n",
    " \n",
    "\n",
    "Example 1:\n",
    "\n",
    "Input: nums = [5,7,7,8,8,10], target = 8\n",
    "Output: [3,4]\n",
    "Example 2:\n",
    "\n",
    "Input: nums = [5,7,7,8,8,10], target = 6\n",
    "Output: [-1,-1]\n",
    "Example 3:\n",
    "\n",
    "Input: nums = [], target = 0\n",
    "Output: [-1,-1]\n",
    " \n",
    "\n",
    "Constraints:\n",
    "\n",
    "0 <= nums.length <= 105\n",
    "-109 <= nums[i] <= 109\n",
    "nums is a non-decreasing array.\n",
    "-109 <= target <= 109"
   ]
  },
  {
   "cell_type": "code",
   "execution_count": 22,
   "id": "3080c77a",
   "metadata": {},
   "outputs": [
    {
     "name": "stdout",
     "output_type": "stream",
     "text": [
      "Time:  109.80000006384216\n"
     ]
    }
   ],
   "source": [
    "import timeit\n",
    "\n",
    "start = timeit.default_timer()\n",
    "\n",
    "#Your statements here\n",
    "for i in range(10000):\n",
    "    1*i\n",
    "\n",
    "stop = timeit.default_timer()\n",
    "\n",
    "print('Time: ', (stop - start)*100000)  "
   ]
  },
  {
   "cell_type": "code",
   "execution_count": 25,
   "id": "ce0232a2",
   "metadata": {},
   "outputs": [],
   "source": [
    "def searchRange(nums,target):\n",
    "    left = binSearch(nums,target,True)\n",
    "    right = binSearch(nums,target,False)\n",
    "    return [left,right]\n",
    "\n",
    "def binSearch(self,nums,target,leftbias):\n",
    "    l,r=0,len(nums)-1\n",
    "    i=-1\n",
    "    while l<=r:\n",
    "        m = (l+r)//2\n",
    "        if target > nums[m]:\n",
    "            l=m+1\n",
    "        elif target < nums[m]:\n",
    "            r = m-1\n",
    "        else:\n",
    "            i=m\n",
    "            if leftbias:\n",
    "                r = m-1\n",
    "            else:\n",
    "                l= m+1\n",
    "    return i\n"
   ]
  },
  {
   "cell_type": "code",
   "execution_count": null,
   "id": "7916cb4e",
   "metadata": {},
   "outputs": [],
   "source": []
  }
 ],
 "metadata": {
  "kernelspec": {
   "display_name": "Python 3 (ipykernel)",
   "language": "python",
   "name": "python3"
  },
  "language_info": {
   "codemirror_mode": {
    "name": "ipython",
    "version": 3
   },
   "file_extension": ".py",
   "mimetype": "text/x-python",
   "name": "python",
   "nbconvert_exporter": "python",
   "pygments_lexer": "ipython3",
   "version": "3.9.7"
  }
 },
 "nbformat": 4,
 "nbformat_minor": 5
}
