{
 "cells": [
  {
   "cell_type": "markdown",
   "id": "6fa60419",
   "metadata": {},
   "source": [
    "### Diffrence Between List ans Array"
   ]
  },
  {
   "cell_type": "code",
   "execution_count": 1,
   "id": "424dccf2",
   "metadata": {},
   "outputs": [
    {
     "name": "stdout",
     "output_type": "stream",
     "text": [
      "1\n",
      "2\n",
      "3\n"
     ]
    }
   ],
   "source": [
    "\"\"\"What is an Array?\n",
    "-----> An array is a data structure that holds fix number of elements and these elements should be of the same data type.\"\"\"\n",
    "\n",
    "# creating an array containing the same data type elements  \n",
    "\n",
    "import array \n",
    "  \n",
    "arr = array.array('i', [1,2,3])   \n",
    "  \n",
    "# accessing elements of array \n",
    "for j in arr: \n",
    "     print(j)"
   ]
  },
  {
   "cell_type": "code",
   "execution_count": 2,
   "id": "0d151efd",
   "metadata": {},
   "outputs": [
    {
     "name": "stdout",
     "output_type": "stream",
     "text": [
      "[10, 'sid', ['A', 'B']]\n"
     ]
    }
   ],
   "source": [
    "\"\"\"What is a List?\n",
    "------>> The list is the most important data type in python language. In Python language, the list is written as the list of \n",
    "commas separated values inside the square bracket. The most important advantage of the list is the elements inside the list \n",
    "is not compulsorily be of the same data type along with negative indexing.\"\"\"\n",
    "\n",
    "# creating a list of items with different data types \n",
    "sample_list = [10,\"sid\",['A','B']] \n",
    "print(sample_list)"
   ]
  },
  {
   "cell_type": "code",
   "execution_count": null,
   "id": "88562bd8",
   "metadata": {},
   "outputs": [],
   "source": []
  },
  {
   "cell_type": "code",
   "execution_count": 5,
   "id": "26e7503c",
   "metadata": {},
   "outputs": [],
   "source": [
    "def bsearch(seq,v,l,r):\n",
    "    if (r-l == 0):\n",
    "        return (False)\n",
    "    mid = (l+r)//2\n",
    "    if (v == seq[mid]):\n",
    "        return (True)\n",
    "    if (v < seq[mid]):\n",
    "        print(\"resursive search first half\")\n",
    "        return (bsearch(seq,v,l,mid))\n",
    "    else:\n",
    "        print(\"resursive search second half\")\n",
    "        return (bsearch(seq,v,mid+1,r))\n",
    "    \n",
    "        "
   ]
  },
  {
   "cell_type": "code",
   "execution_count": 9,
   "id": "4adb144e",
   "metadata": {},
   "outputs": [
    {
     "name": "stdout",
     "output_type": "stream",
     "text": [
      "resursive search first half\n",
      "resursive search second half\n"
     ]
    },
    {
     "data": {
      "text/plain": [
       "True"
      ]
     },
     "execution_count": 9,
     "metadata": {},
     "output_type": "execute_result"
    }
   ],
   "source": [
    "a = bsearch([1,2,3,4,5,6,7,8,9],5,1,9)\n",
    "a"
   ]
  },
  {
   "cell_type": "code",
   "execution_count": null,
   "id": "25f26e6b",
   "metadata": {},
   "outputs": [],
   "source": []
  }
 ],
 "metadata": {
  "kernelspec": {
   "display_name": "Python 3 (ipykernel)",
   "language": "python",
   "name": "python3"
  },
  "language_info": {
   "codemirror_mode": {
    "name": "ipython",
    "version": 3
   },
   "file_extension": ".py",
   "mimetype": "text/x-python",
   "name": "python",
   "nbconvert_exporter": "python",
   "pygments_lexer": "ipython3",
   "version": "3.9.12"
  }
 },
 "nbformat": 4,
 "nbformat_minor": 5
}
